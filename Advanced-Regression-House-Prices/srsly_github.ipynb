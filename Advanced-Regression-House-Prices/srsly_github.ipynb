{
 "cells": [
  {
   "cell_type": "markdown",
   "id": "55e50ee2-8b99-40a0-8db3-10bae68c4afe",
   "metadata": {},
   "source": [
    "# $$\\text{House Pricing - Kaggle}$$"
   ]
  },
  {
   "cell_type": "markdown",
   "id": "de1afe3a-f21e-4f0b-86c5-c8866c7361dc",
   "metadata": {},
   "source": [
    "Template"
   ]
  },
  {
   "cell_type": "code",
   "execution_count": 1,
   "id": "c77a1c1f-b7b4-424e-8bbd-3b145301bfb4",
   "metadata": {},
   "outputs": [],
   "source": [
    "import numpy as np\n",
    "import pandas as pd\n",
    "import matplotlib.pyplot as plt\n",
    "from sklearn.pipeline import make_pipeline\n",
    "from sklearn.preprocessing import OneHotEncoder, RobustScaler, StandardScaler, QuantileTransformer, PowerTransformer\n",
    "from sklearn.model_selection import train_test_split\n",
    "from sklearn.metrics import mean_squared_error, r2_score\n",
    "from sklearn.impute import SimpleImputer, KNNImputer\n",
    "import category_encoders as ce\n",
    "from sklearn.feature_selection import SelectKBest, mutual_info_regression\n",
    "from sklearn.decomposition import PCA,KernelPCA"
   ]
  },
  {
   "cell_type": "code",
   "execution_count": 2,
   "id": "7b84868e-a498-4bd2-809c-25908fc1c9a1",
   "metadata": {},
   "outputs": [],
   "source": [
    "import seaborn as sns\n",
    "sns.set_style(\"darkgrid\")"
   ]
  },
  {
   "cell_type": "code",
   "execution_count": 3,
   "id": "7daffeea-7dd2-4d1e-b233-c3e573ea0d0a",
   "metadata": {},
   "outputs": [],
   "source": [
    "import xgboost as xgb"
   ]
  },
  {
   "cell_type": "markdown",
   "id": "04af1622-0c7d-4b15-94f9-7f9256d86f45",
   "metadata": {},
   "source": [
    "# $\\text{1. Dataset & Visualization}$\n"
   ]
  },
  {
   "cell_type": "code",
   "execution_count": 4,
   "id": "b397909c-52a0-4219-a973-c11c1a98b26a",
   "metadata": {},
   "outputs": [],
   "source": [
    "df_train = pd.read_csv(\"train.csv\")\n",
    "df_test = pd.read_csv(\"test.csv\")"
   ]
  },
  {
   "cell_type": "code",
   "execution_count": 5,
   "id": "c43367fc-2a02-4fcb-947d-ab94ac872abc",
   "metadata": {},
   "outputs": [
    {
     "data": {
      "text/plain": [
       "1460"
      ]
     },
     "execution_count": 5,
     "metadata": {},
     "output_type": "execute_result"
    }
   ],
   "source": [
    "len(df_train)"
   ]
  },
  {
   "cell_type": "code",
   "execution_count": 6,
   "id": "6897a5cc-727f-426c-a6d9-9c7762b664ee",
   "metadata": {},
   "outputs": [
    {
     "data": {
      "text/html": [
       "<div>\n",
       "<style scoped>\n",
       "    .dataframe tbody tr th:only-of-type {\n",
       "        vertical-align: middle;\n",
       "    }\n",
       "\n",
       "    .dataframe tbody tr th {\n",
       "        vertical-align: top;\n",
       "    }\n",
       "\n",
       "    .dataframe thead th {\n",
       "        text-align: right;\n",
       "    }\n",
       "</style>\n",
       "<table border=\"1\" class=\"dataframe\">\n",
       "  <thead>\n",
       "    <tr style=\"text-align: right;\">\n",
       "      <th></th>\n",
       "      <th>Id</th>\n",
       "      <th>MSSubClass</th>\n",
       "      <th>MSZoning</th>\n",
       "      <th>LotFrontage</th>\n",
       "      <th>LotArea</th>\n",
       "      <th>Street</th>\n",
       "      <th>Alley</th>\n",
       "      <th>LotShape</th>\n",
       "      <th>LandContour</th>\n",
       "      <th>Utilities</th>\n",
       "      <th>...</th>\n",
       "      <th>PoolArea</th>\n",
       "      <th>PoolQC</th>\n",
       "      <th>Fence</th>\n",
       "      <th>MiscFeature</th>\n",
       "      <th>MiscVal</th>\n",
       "      <th>MoSold</th>\n",
       "      <th>YrSold</th>\n",
       "      <th>SaleType</th>\n",
       "      <th>SaleCondition</th>\n",
       "      <th>SalePrice</th>\n",
       "    </tr>\n",
       "  </thead>\n",
       "  <tbody>\n",
       "    <tr>\n",
       "      <th>0</th>\n",
       "      <td>1</td>\n",
       "      <td>60</td>\n",
       "      <td>RL</td>\n",
       "      <td>65.0</td>\n",
       "      <td>8450</td>\n",
       "      <td>Pave</td>\n",
       "      <td>NaN</td>\n",
       "      <td>Reg</td>\n",
       "      <td>Lvl</td>\n",
       "      <td>AllPub</td>\n",
       "      <td>...</td>\n",
       "      <td>0</td>\n",
       "      <td>NaN</td>\n",
       "      <td>NaN</td>\n",
       "      <td>NaN</td>\n",
       "      <td>0</td>\n",
       "      <td>2</td>\n",
       "      <td>2008</td>\n",
       "      <td>WD</td>\n",
       "      <td>Normal</td>\n",
       "      <td>208500</td>\n",
       "    </tr>\n",
       "    <tr>\n",
       "      <th>1</th>\n",
       "      <td>2</td>\n",
       "      <td>20</td>\n",
       "      <td>RL</td>\n",
       "      <td>80.0</td>\n",
       "      <td>9600</td>\n",
       "      <td>Pave</td>\n",
       "      <td>NaN</td>\n",
       "      <td>Reg</td>\n",
       "      <td>Lvl</td>\n",
       "      <td>AllPub</td>\n",
       "      <td>...</td>\n",
       "      <td>0</td>\n",
       "      <td>NaN</td>\n",
       "      <td>NaN</td>\n",
       "      <td>NaN</td>\n",
       "      <td>0</td>\n",
       "      <td>5</td>\n",
       "      <td>2007</td>\n",
       "      <td>WD</td>\n",
       "      <td>Normal</td>\n",
       "      <td>181500</td>\n",
       "    </tr>\n",
       "    <tr>\n",
       "      <th>2</th>\n",
       "      <td>3</td>\n",
       "      <td>60</td>\n",
       "      <td>RL</td>\n",
       "      <td>68.0</td>\n",
       "      <td>11250</td>\n",
       "      <td>Pave</td>\n",
       "      <td>NaN</td>\n",
       "      <td>IR1</td>\n",
       "      <td>Lvl</td>\n",
       "      <td>AllPub</td>\n",
       "      <td>...</td>\n",
       "      <td>0</td>\n",
       "      <td>NaN</td>\n",
       "      <td>NaN</td>\n",
       "      <td>NaN</td>\n",
       "      <td>0</td>\n",
       "      <td>9</td>\n",
       "      <td>2008</td>\n",
       "      <td>WD</td>\n",
       "      <td>Normal</td>\n",
       "      <td>223500</td>\n",
       "    </tr>\n",
       "  </tbody>\n",
       "</table>\n",
       "<p>3 rows × 81 columns</p>\n",
       "</div>"
      ],
      "text/plain": [
       "   Id  MSSubClass MSZoning  LotFrontage  LotArea Street Alley LotShape  \\\n",
       "0   1          60       RL         65.0     8450   Pave   NaN      Reg   \n",
       "1   2          20       RL         80.0     9600   Pave   NaN      Reg   \n",
       "2   3          60       RL         68.0    11250   Pave   NaN      IR1   \n",
       "\n",
       "  LandContour Utilities  ... PoolArea PoolQC Fence MiscFeature MiscVal MoSold  \\\n",
       "0         Lvl    AllPub  ...        0    NaN   NaN         NaN       0      2   \n",
       "1         Lvl    AllPub  ...        0    NaN   NaN         NaN       0      5   \n",
       "2         Lvl    AllPub  ...        0    NaN   NaN         NaN       0      9   \n",
       "\n",
       "  YrSold  SaleType  SaleCondition  SalePrice  \n",
       "0   2008        WD         Normal     208500  \n",
       "1   2007        WD         Normal     181500  \n",
       "2   2008        WD         Normal     223500  \n",
       "\n",
       "[3 rows x 81 columns]"
      ]
     },
     "execution_count": 6,
     "metadata": {},
     "output_type": "execute_result"
    }
   ],
   "source": [
    "df_train.head(3)"
   ]
  },
  {
   "cell_type": "code",
   "execution_count": 7,
   "id": "23427593-b9db-4171-aed8-327fd0e80bb7",
   "metadata": {},
   "outputs": [
    {
     "data": {
      "text/plain": [
       "0       1461\n",
       "1       1462\n",
       "2       1463\n",
       "3       1464\n",
       "4       1465\n",
       "        ... \n",
       "1454    2915\n",
       "1455    2916\n",
       "1456    2917\n",
       "1457    2918\n",
       "1458    2919\n",
       "Name: Id, Length: 1459, dtype: int64"
      ]
     },
     "execution_count": 7,
     "metadata": {},
     "output_type": "execute_result"
    }
   ],
   "source": [
    "df_train.pop('Id')\n",
    "df_test.pop('Id')"
   ]
  },
  {
   "cell_type": "code",
   "execution_count": 8,
   "id": "0819a1f1-4ff3-4a3a-884f-ada9bb374c06",
   "metadata": {},
   "outputs": [
    {
     "data": {
      "text/plain": [
       "1459"
      ]
     },
     "execution_count": 8,
     "metadata": {},
     "output_type": "execute_result"
    }
   ],
   "source": [
    "len(df_test)"
   ]
  },
  {
   "cell_type": "code",
   "execution_count": 9,
   "id": "ca868149-4d3e-46e7-ac6b-ad5f740b0ac9",
   "metadata": {},
   "outputs": [
    {
     "data": {
      "text/html": [
       "<div>\n",
       "<style scoped>\n",
       "    .dataframe tbody tr th:only-of-type {\n",
       "        vertical-align: middle;\n",
       "    }\n",
       "\n",
       "    .dataframe tbody tr th {\n",
       "        vertical-align: top;\n",
       "    }\n",
       "\n",
       "    .dataframe thead th {\n",
       "        text-align: right;\n",
       "    }\n",
       "</style>\n",
       "<table border=\"1\" class=\"dataframe\">\n",
       "  <thead>\n",
       "    <tr style=\"text-align: right;\">\n",
       "      <th></th>\n",
       "      <th>MSSubClass</th>\n",
       "      <th>MSZoning</th>\n",
       "      <th>LotFrontage</th>\n",
       "      <th>LotArea</th>\n",
       "      <th>Street</th>\n",
       "      <th>Alley</th>\n",
       "      <th>LotShape</th>\n",
       "      <th>LandContour</th>\n",
       "      <th>Utilities</th>\n",
       "      <th>LotConfig</th>\n",
       "      <th>...</th>\n",
       "      <th>ScreenPorch</th>\n",
       "      <th>PoolArea</th>\n",
       "      <th>PoolQC</th>\n",
       "      <th>Fence</th>\n",
       "      <th>MiscFeature</th>\n",
       "      <th>MiscVal</th>\n",
       "      <th>MoSold</th>\n",
       "      <th>YrSold</th>\n",
       "      <th>SaleType</th>\n",
       "      <th>SaleCondition</th>\n",
       "    </tr>\n",
       "  </thead>\n",
       "  <tbody>\n",
       "    <tr>\n",
       "      <th>0</th>\n",
       "      <td>20</td>\n",
       "      <td>RH</td>\n",
       "      <td>80.0</td>\n",
       "      <td>11622</td>\n",
       "      <td>Pave</td>\n",
       "      <td>NaN</td>\n",
       "      <td>Reg</td>\n",
       "      <td>Lvl</td>\n",
       "      <td>AllPub</td>\n",
       "      <td>Inside</td>\n",
       "      <td>...</td>\n",
       "      <td>120</td>\n",
       "      <td>0</td>\n",
       "      <td>NaN</td>\n",
       "      <td>MnPrv</td>\n",
       "      <td>NaN</td>\n",
       "      <td>0</td>\n",
       "      <td>6</td>\n",
       "      <td>2010</td>\n",
       "      <td>WD</td>\n",
       "      <td>Normal</td>\n",
       "    </tr>\n",
       "    <tr>\n",
       "      <th>1</th>\n",
       "      <td>20</td>\n",
       "      <td>RL</td>\n",
       "      <td>81.0</td>\n",
       "      <td>14267</td>\n",
       "      <td>Pave</td>\n",
       "      <td>NaN</td>\n",
       "      <td>IR1</td>\n",
       "      <td>Lvl</td>\n",
       "      <td>AllPub</td>\n",
       "      <td>Corner</td>\n",
       "      <td>...</td>\n",
       "      <td>0</td>\n",
       "      <td>0</td>\n",
       "      <td>NaN</td>\n",
       "      <td>NaN</td>\n",
       "      <td>Gar2</td>\n",
       "      <td>12500</td>\n",
       "      <td>6</td>\n",
       "      <td>2010</td>\n",
       "      <td>WD</td>\n",
       "      <td>Normal</td>\n",
       "    </tr>\n",
       "    <tr>\n",
       "      <th>2</th>\n",
       "      <td>60</td>\n",
       "      <td>RL</td>\n",
       "      <td>74.0</td>\n",
       "      <td>13830</td>\n",
       "      <td>Pave</td>\n",
       "      <td>NaN</td>\n",
       "      <td>IR1</td>\n",
       "      <td>Lvl</td>\n",
       "      <td>AllPub</td>\n",
       "      <td>Inside</td>\n",
       "      <td>...</td>\n",
       "      <td>0</td>\n",
       "      <td>0</td>\n",
       "      <td>NaN</td>\n",
       "      <td>MnPrv</td>\n",
       "      <td>NaN</td>\n",
       "      <td>0</td>\n",
       "      <td>3</td>\n",
       "      <td>2010</td>\n",
       "      <td>WD</td>\n",
       "      <td>Normal</td>\n",
       "    </tr>\n",
       "  </tbody>\n",
       "</table>\n",
       "<p>3 rows × 79 columns</p>\n",
       "</div>"
      ],
      "text/plain": [
       "   MSSubClass MSZoning  LotFrontage  LotArea Street Alley LotShape  \\\n",
       "0          20       RH         80.0    11622   Pave   NaN      Reg   \n",
       "1          20       RL         81.0    14267   Pave   NaN      IR1   \n",
       "2          60       RL         74.0    13830   Pave   NaN      IR1   \n",
       "\n",
       "  LandContour Utilities LotConfig  ... ScreenPorch PoolArea PoolQC  Fence  \\\n",
       "0         Lvl    AllPub    Inside  ...         120        0    NaN  MnPrv   \n",
       "1         Lvl    AllPub    Corner  ...           0        0    NaN    NaN   \n",
       "2         Lvl    AllPub    Inside  ...           0        0    NaN  MnPrv   \n",
       "\n",
       "  MiscFeature MiscVal  MoSold  YrSold  SaleType  SaleCondition  \n",
       "0         NaN       0       6    2010        WD         Normal  \n",
       "1        Gar2   12500       6    2010        WD         Normal  \n",
       "2         NaN       0       3    2010        WD         Normal  \n",
       "\n",
       "[3 rows x 79 columns]"
      ]
     },
     "execution_count": 9,
     "metadata": {},
     "output_type": "execute_result"
    }
   ],
   "source": [
    "df_test.head(3)"
   ]
  },
  {
   "cell_type": "code",
   "execution_count": 10,
   "id": "416d84d1-a17d-4958-80cb-35da411989f8",
   "metadata": {},
   "outputs": [
    {
     "data": {
      "text/html": [
       "<div>\n",
       "<style scoped>\n",
       "    .dataframe tbody tr th:only-of-type {\n",
       "        vertical-align: middle;\n",
       "    }\n",
       "\n",
       "    .dataframe tbody tr th {\n",
       "        vertical-align: top;\n",
       "    }\n",
       "\n",
       "    .dataframe thead th {\n",
       "        text-align: right;\n",
       "    }\n",
       "</style>\n",
       "<table border=\"1\" class=\"dataframe\">\n",
       "  <thead>\n",
       "    <tr style=\"text-align: right;\">\n",
       "      <th></th>\n",
       "      <th>MSSubClass</th>\n",
       "      <th>LotFrontage</th>\n",
       "      <th>LotArea</th>\n",
       "      <th>OverallQual</th>\n",
       "      <th>OverallCond</th>\n",
       "      <th>YearBuilt</th>\n",
       "      <th>YearRemodAdd</th>\n",
       "      <th>MasVnrArea</th>\n",
       "      <th>BsmtFinSF1</th>\n",
       "      <th>BsmtFinSF2</th>\n",
       "      <th>...</th>\n",
       "      <th>WoodDeckSF</th>\n",
       "      <th>OpenPorchSF</th>\n",
       "      <th>EnclosedPorch</th>\n",
       "      <th>3SsnPorch</th>\n",
       "      <th>ScreenPorch</th>\n",
       "      <th>PoolArea</th>\n",
       "      <th>MiscVal</th>\n",
       "      <th>MoSold</th>\n",
       "      <th>YrSold</th>\n",
       "      <th>SalePrice</th>\n",
       "    </tr>\n",
       "  </thead>\n",
       "  <tbody>\n",
       "    <tr>\n",
       "      <th>count</th>\n",
       "      <td>1460.000000</td>\n",
       "      <td>1201.000000</td>\n",
       "      <td>1460.000000</td>\n",
       "      <td>1460.000000</td>\n",
       "      <td>1460.000000</td>\n",
       "      <td>1460.000000</td>\n",
       "      <td>1460.000000</td>\n",
       "      <td>1452.000000</td>\n",
       "      <td>1460.000000</td>\n",
       "      <td>1460.000000</td>\n",
       "      <td>...</td>\n",
       "      <td>1460.000000</td>\n",
       "      <td>1460.000000</td>\n",
       "      <td>1460.000000</td>\n",
       "      <td>1460.000000</td>\n",
       "      <td>1460.000000</td>\n",
       "      <td>1460.000000</td>\n",
       "      <td>1460.000000</td>\n",
       "      <td>1460.000000</td>\n",
       "      <td>1460.000000</td>\n",
       "      <td>1460.000000</td>\n",
       "    </tr>\n",
       "    <tr>\n",
       "      <th>mean</th>\n",
       "      <td>56.897260</td>\n",
       "      <td>70.049958</td>\n",
       "      <td>10516.828082</td>\n",
       "      <td>6.099315</td>\n",
       "      <td>5.575342</td>\n",
       "      <td>1971.267808</td>\n",
       "      <td>1984.865753</td>\n",
       "      <td>103.685262</td>\n",
       "      <td>443.639726</td>\n",
       "      <td>46.549315</td>\n",
       "      <td>...</td>\n",
       "      <td>94.244521</td>\n",
       "      <td>46.660274</td>\n",
       "      <td>21.954110</td>\n",
       "      <td>3.409589</td>\n",
       "      <td>15.060959</td>\n",
       "      <td>2.758904</td>\n",
       "      <td>43.489041</td>\n",
       "      <td>6.321918</td>\n",
       "      <td>2007.815753</td>\n",
       "      <td>180921.195890</td>\n",
       "    </tr>\n",
       "    <tr>\n",
       "      <th>std</th>\n",
       "      <td>42.300571</td>\n",
       "      <td>24.284752</td>\n",
       "      <td>9981.264932</td>\n",
       "      <td>1.382997</td>\n",
       "      <td>1.112799</td>\n",
       "      <td>30.202904</td>\n",
       "      <td>20.645407</td>\n",
       "      <td>181.066207</td>\n",
       "      <td>456.098091</td>\n",
       "      <td>161.319273</td>\n",
       "      <td>...</td>\n",
       "      <td>125.338794</td>\n",
       "      <td>66.256028</td>\n",
       "      <td>61.119149</td>\n",
       "      <td>29.317331</td>\n",
       "      <td>55.757415</td>\n",
       "      <td>40.177307</td>\n",
       "      <td>496.123024</td>\n",
       "      <td>2.703626</td>\n",
       "      <td>1.328095</td>\n",
       "      <td>79442.502883</td>\n",
       "    </tr>\n",
       "    <tr>\n",
       "      <th>min</th>\n",
       "      <td>20.000000</td>\n",
       "      <td>21.000000</td>\n",
       "      <td>1300.000000</td>\n",
       "      <td>1.000000</td>\n",
       "      <td>1.000000</td>\n",
       "      <td>1872.000000</td>\n",
       "      <td>1950.000000</td>\n",
       "      <td>0.000000</td>\n",
       "      <td>0.000000</td>\n",
       "      <td>0.000000</td>\n",
       "      <td>...</td>\n",
       "      <td>0.000000</td>\n",
       "      <td>0.000000</td>\n",
       "      <td>0.000000</td>\n",
       "      <td>0.000000</td>\n",
       "      <td>0.000000</td>\n",
       "      <td>0.000000</td>\n",
       "      <td>0.000000</td>\n",
       "      <td>1.000000</td>\n",
       "      <td>2006.000000</td>\n",
       "      <td>34900.000000</td>\n",
       "    </tr>\n",
       "    <tr>\n",
       "      <th>25%</th>\n",
       "      <td>20.000000</td>\n",
       "      <td>59.000000</td>\n",
       "      <td>7553.500000</td>\n",
       "      <td>5.000000</td>\n",
       "      <td>5.000000</td>\n",
       "      <td>1954.000000</td>\n",
       "      <td>1967.000000</td>\n",
       "      <td>0.000000</td>\n",
       "      <td>0.000000</td>\n",
       "      <td>0.000000</td>\n",
       "      <td>...</td>\n",
       "      <td>0.000000</td>\n",
       "      <td>0.000000</td>\n",
       "      <td>0.000000</td>\n",
       "      <td>0.000000</td>\n",
       "      <td>0.000000</td>\n",
       "      <td>0.000000</td>\n",
       "      <td>0.000000</td>\n",
       "      <td>5.000000</td>\n",
       "      <td>2007.000000</td>\n",
       "      <td>129975.000000</td>\n",
       "    </tr>\n",
       "    <tr>\n",
       "      <th>50%</th>\n",
       "      <td>50.000000</td>\n",
       "      <td>69.000000</td>\n",
       "      <td>9478.500000</td>\n",
       "      <td>6.000000</td>\n",
       "      <td>5.000000</td>\n",
       "      <td>1973.000000</td>\n",
       "      <td>1994.000000</td>\n",
       "      <td>0.000000</td>\n",
       "      <td>383.500000</td>\n",
       "      <td>0.000000</td>\n",
       "      <td>...</td>\n",
       "      <td>0.000000</td>\n",
       "      <td>25.000000</td>\n",
       "      <td>0.000000</td>\n",
       "      <td>0.000000</td>\n",
       "      <td>0.000000</td>\n",
       "      <td>0.000000</td>\n",
       "      <td>0.000000</td>\n",
       "      <td>6.000000</td>\n",
       "      <td>2008.000000</td>\n",
       "      <td>163000.000000</td>\n",
       "    </tr>\n",
       "    <tr>\n",
       "      <th>75%</th>\n",
       "      <td>70.000000</td>\n",
       "      <td>80.000000</td>\n",
       "      <td>11601.500000</td>\n",
       "      <td>7.000000</td>\n",
       "      <td>6.000000</td>\n",
       "      <td>2000.000000</td>\n",
       "      <td>2004.000000</td>\n",
       "      <td>166.000000</td>\n",
       "      <td>712.250000</td>\n",
       "      <td>0.000000</td>\n",
       "      <td>...</td>\n",
       "      <td>168.000000</td>\n",
       "      <td>68.000000</td>\n",
       "      <td>0.000000</td>\n",
       "      <td>0.000000</td>\n",
       "      <td>0.000000</td>\n",
       "      <td>0.000000</td>\n",
       "      <td>0.000000</td>\n",
       "      <td>8.000000</td>\n",
       "      <td>2009.000000</td>\n",
       "      <td>214000.000000</td>\n",
       "    </tr>\n",
       "    <tr>\n",
       "      <th>max</th>\n",
       "      <td>190.000000</td>\n",
       "      <td>313.000000</td>\n",
       "      <td>215245.000000</td>\n",
       "      <td>10.000000</td>\n",
       "      <td>9.000000</td>\n",
       "      <td>2010.000000</td>\n",
       "      <td>2010.000000</td>\n",
       "      <td>1600.000000</td>\n",
       "      <td>5644.000000</td>\n",
       "      <td>1474.000000</td>\n",
       "      <td>...</td>\n",
       "      <td>857.000000</td>\n",
       "      <td>547.000000</td>\n",
       "      <td>552.000000</td>\n",
       "      <td>508.000000</td>\n",
       "      <td>480.000000</td>\n",
       "      <td>738.000000</td>\n",
       "      <td>15500.000000</td>\n",
       "      <td>12.000000</td>\n",
       "      <td>2010.000000</td>\n",
       "      <td>755000.000000</td>\n",
       "    </tr>\n",
       "  </tbody>\n",
       "</table>\n",
       "<p>8 rows × 37 columns</p>\n",
       "</div>"
      ],
      "text/plain": [
       "        MSSubClass  LotFrontage        LotArea  OverallQual  OverallCond  \\\n",
       "count  1460.000000  1201.000000    1460.000000  1460.000000  1460.000000   \n",
       "mean     56.897260    70.049958   10516.828082     6.099315     5.575342   \n",
       "std      42.300571    24.284752    9981.264932     1.382997     1.112799   \n",
       "min      20.000000    21.000000    1300.000000     1.000000     1.000000   \n",
       "25%      20.000000    59.000000    7553.500000     5.000000     5.000000   \n",
       "50%      50.000000    69.000000    9478.500000     6.000000     5.000000   \n",
       "75%      70.000000    80.000000   11601.500000     7.000000     6.000000   \n",
       "max     190.000000   313.000000  215245.000000    10.000000     9.000000   \n",
       "\n",
       "         YearBuilt  YearRemodAdd   MasVnrArea   BsmtFinSF1   BsmtFinSF2  ...  \\\n",
       "count  1460.000000   1460.000000  1452.000000  1460.000000  1460.000000  ...   \n",
       "mean   1971.267808   1984.865753   103.685262   443.639726    46.549315  ...   \n",
       "std      30.202904     20.645407   181.066207   456.098091   161.319273  ...   \n",
       "min    1872.000000   1950.000000     0.000000     0.000000     0.000000  ...   \n",
       "25%    1954.000000   1967.000000     0.000000     0.000000     0.000000  ...   \n",
       "50%    1973.000000   1994.000000     0.000000   383.500000     0.000000  ...   \n",
       "75%    2000.000000   2004.000000   166.000000   712.250000     0.000000  ...   \n",
       "max    2010.000000   2010.000000  1600.000000  5644.000000  1474.000000  ...   \n",
       "\n",
       "        WoodDeckSF  OpenPorchSF  EnclosedPorch    3SsnPorch  ScreenPorch  \\\n",
       "count  1460.000000  1460.000000    1460.000000  1460.000000  1460.000000   \n",
       "mean     94.244521    46.660274      21.954110     3.409589    15.060959   \n",
       "std     125.338794    66.256028      61.119149    29.317331    55.757415   \n",
       "min       0.000000     0.000000       0.000000     0.000000     0.000000   \n",
       "25%       0.000000     0.000000       0.000000     0.000000     0.000000   \n",
       "50%       0.000000    25.000000       0.000000     0.000000     0.000000   \n",
       "75%     168.000000    68.000000       0.000000     0.000000     0.000000   \n",
       "max     857.000000   547.000000     552.000000   508.000000   480.000000   \n",
       "\n",
       "          PoolArea       MiscVal       MoSold       YrSold      SalePrice  \n",
       "count  1460.000000   1460.000000  1460.000000  1460.000000    1460.000000  \n",
       "mean      2.758904     43.489041     6.321918  2007.815753  180921.195890  \n",
       "std      40.177307    496.123024     2.703626     1.328095   79442.502883  \n",
       "min       0.000000      0.000000     1.000000  2006.000000   34900.000000  \n",
       "25%       0.000000      0.000000     5.000000  2007.000000  129975.000000  \n",
       "50%       0.000000      0.000000     6.000000  2008.000000  163000.000000  \n",
       "75%       0.000000      0.000000     8.000000  2009.000000  214000.000000  \n",
       "max     738.000000  15500.000000    12.000000  2010.000000  755000.000000  \n",
       "\n",
       "[8 rows x 37 columns]"
      ]
     },
     "execution_count": 10,
     "metadata": {},
     "output_type": "execute_result"
    }
   ],
   "source": [
    "df_train.describe()"
   ]
  },
  {
   "cell_type": "code",
   "execution_count": 11,
   "id": "72e70021-0cb9-4823-94d9-28c9a1af8a85",
   "metadata": {},
   "outputs": [
    {
     "data": {
      "text/plain": [
       "(1460, 80)"
      ]
     },
     "execution_count": 11,
     "metadata": {},
     "output_type": "execute_result"
    }
   ],
   "source": [
    "df_train.shape"
   ]
  },
  {
   "cell_type": "code",
   "execution_count": 12,
   "id": "b8e211c2-c1f4-40ce-99b0-bf689805f2f0",
   "metadata": {},
   "outputs": [
    {
     "data": {
      "text/plain": [
       "Index(['MSSubClass', 'MSZoning', 'LotFrontage', 'LotArea', 'Street', 'Alley',\n",
       "       'LotShape', 'LandContour', 'Utilities', 'LotConfig', 'LandSlope',\n",
       "       'Neighborhood', 'Condition1', 'Condition2', 'BldgType', 'HouseStyle',\n",
       "       'OverallQual', 'OverallCond', 'YearBuilt', 'YearRemodAdd', 'RoofStyle',\n",
       "       'RoofMatl', 'Exterior1st', 'Exterior2nd', 'MasVnrType', 'MasVnrArea',\n",
       "       'ExterQual', 'ExterCond', 'Foundation', 'BsmtQual', 'BsmtCond',\n",
       "       'BsmtExposure', 'BsmtFinType1', 'BsmtFinSF1', 'BsmtFinType2',\n",
       "       'BsmtFinSF2', 'BsmtUnfSF', 'TotalBsmtSF', 'Heating', 'HeatingQC',\n",
       "       'CentralAir', 'Electrical', '1stFlrSF', '2ndFlrSF', 'LowQualFinSF',\n",
       "       'GrLivArea', 'BsmtFullBath', 'BsmtHalfBath', 'FullBath', 'HalfBath',\n",
       "       'BedroomAbvGr', 'KitchenAbvGr', 'KitchenQual', 'TotRmsAbvGrd',\n",
       "       'Functional', 'Fireplaces', 'FireplaceQu', 'GarageType', 'GarageYrBlt',\n",
       "       'GarageFinish', 'GarageCars', 'GarageArea', 'GarageQual', 'GarageCond',\n",
       "       'PavedDrive', 'WoodDeckSF', 'OpenPorchSF', 'EnclosedPorch', '3SsnPorch',\n",
       "       'ScreenPorch', 'PoolArea', 'PoolQC', 'Fence', 'MiscFeature', 'MiscVal',\n",
       "       'MoSold', 'YrSold', 'SaleType', 'SaleCondition', 'SalePrice'],\n",
       "      dtype='object')"
      ]
     },
     "execution_count": 12,
     "metadata": {},
     "output_type": "execute_result"
    }
   ],
   "source": [
    "df_train.columns"
   ]
  },
  {
   "cell_type": "markdown",
   "id": "6f7ff60e-b4e2-45b9-b760-40093848d712",
   "metadata": {},
   "source": [
    "## $\\text{Overall Condition}$"
   ]
  },
  {
   "cell_type": "code",
   "execution_count": 13,
   "id": "11b0a26f-df60-47b2-87b0-2d6adb5195b6",
   "metadata": {},
   "outputs": [
    {
     "data": {
      "image/png": "[encoded data removed]",
      "text/plain": [
       "<Figure size 720x360 with 1 Axes>"
      ]
     },
     "metadata": {},
     "output_type": "display_data"
    }
   ],
   "source": [
    "plt.figure(figsize = (10,5))\n",
    "ax = sns.barplot(x = df_train[\"OverallCond\"], y = df_train[\"SalePrice\"], edgecolor = 'k', palette = 'plasma', estimator = np.mean, errwidth = 0)\n",
    "ax.bar_label(ax.containers[0])\n",
    "plt.show()"
   ]
  },
  {
   "cell_type": "markdown",
   "id": "5c571b52-d569-4dd3-9c78-cfc292ab7dd5",
   "metadata": {},
   "source": [
    "## $\\text{Year Built | Year Remodelled}$"
   ]
  },
  {
   "cell_type": "code",
   "execution_count": 14,
   "id": "329d95ac-65c9-4e3a-ba34-a617998bcb8e",
   "metadata": {},
   "outputs": [
    {
     "data": {
      "image/png": "[encoded data removed]",
      "text/plain": [
       "<Figure size 2160x720 with 1 Axes>"
      ]
     },
     "metadata": {},
     "output_type": "display_data"
    }
   ],
   "source": [
    "plt.figure(figsize = (30,10))\n",
    "plt.xticks(rotation = 90)\n",
    "ax = sns.barplot(x = df_train[\"YearBuilt\"], y = df_train[\"SalePrice\"], edgecolor = 'k', palette = 'plasma',estimator = np.mean, errwidth = 0)\n",
    "ax.bar_label(ax.containers[0])\n",
    "plt.show()"
   ]
  },
  {
   "cell_type": "code",
   "execution_count": 15,
   "id": "746c0008-fc08-4dde-bbeb-3a6a19594fba",
   "metadata": {},
   "outputs": [
    {
     "data": {
      "image/png": "[encoded data removed]",
      "text/plain": [
       "<Figure size 2160x720 with 1 Axes>"
      ]
     },
     "metadata": {},
     "output_type": "display_data"
    }
   ],
   "source": [
    "plt.figure(figsize = (30,10))\n",
    "plt.xticks(rotation = 90)\n",
    "ax = sns.barplot(x = df_train[\"YearRemodAdd\"], y = df_train[\"SalePrice\"], edgecolor = 'k', palette = 'plasma',estimator = np.mean, errwidth = 0)\n",
    "ax.bar_label(ax.containers[0])\n",
    "plt.show()"
   ]
  },
  {
   "cell_type": "markdown",
   "id": "0ed9e4e8-e4be-48e3-b6fb-07ed7fbfa7a4",
   "metadata": {},
   "source": [
    "## $\\text{LotFrontage | LotArea}$"
   ]
  },
  {
   "cell_type": "code",
   "execution_count": 16,
   "id": "783dc9c8-d634-4cbf-815a-b2cb8a0d221f",
   "metadata": {},
   "outputs": [
    {
     "data": {
      "text/plain": [
       "<AxesSubplot:xlabel='LotFrontage', ylabel='SalePrice'>"
      ]
     },
     "execution_count": 16,
     "metadata": {},
     "output_type": "execute_result"
    },
    {
     "data": {
      "image/png": "[encoded data removed]",
      "text/plain": [
       "<Figure size 1440x360 with 1 Axes>"
      ]
     },
     "metadata": {},
     "output_type": "display_data"
    }
   ],
   "source": [
    "plt.figure(figsize = (20,5))\n",
    "sns.regplot(x = df_train[\"LotFrontage\"], y = df_train[\"SalePrice\"], scatter_kws = {'color':'r','edgecolor':'k'}, line_kws = {'color':'k'})"
   ]
  },
  {
   "cell_type": "code",
   "execution_count": 17,
   "id": "88ba9132-5e57-474d-a93c-cdb0c4001ffd",
   "metadata": {},
   "outputs": [
    {
     "data": {
      "text/plain": [
       "<AxesSubplot:xlabel='LotArea', ylabel='SalePrice'>"
      ]
     },
     "execution_count": 17,
     "metadata": {},
     "output_type": "execute_result"
    },
    {
     "data": {
      "image/png": "[encoded data removed]",
      "text/plain": [
       "<Figure size 720x360 with 1 Axes>"
      ]
     },
     "metadata": {},
     "output_type": "display_data"
    }
   ],
   "source": [
    "plt.figure(figsize = (10,5))\n",
    "sns.regplot(x = df_train[\"LotArea\"], y = df_train[\"SalePrice\"], scatter_kws = {'color':'r','edgecolor':'k'}, line_kws = {'color':'k'})"
   ]
  },
  {
   "cell_type": "markdown",
   "id": "3233e77c-7ac6-4245-844a-0b6738569def",
   "metadata": {},
   "source": [
    "# $\\text{2. Pre-processing}$"
   ]
  },
  {
   "cell_type": "markdown",
   "id": "17573029-aeb7-4af7-9108-78ece2afd88c",
   "metadata": {},
   "source": [
    "## $\\text{2.1. Feature Engineering}$"
   ]
  },
  {
   "cell_type": "markdown",
   "id": "7614ecea-e8e2-4534-bc02-a7f9334028c1",
   "metadata": {},
   "source": [
    "Remove most 0 features: Most examples have the value as 0  for the features such as `3SsnPorch`,`EnclosedPorch`,`ScreenPorch`,`PoolArea`,`MiscFeature`,`MiscVal`,`MoSold`,`YrSold`,`LowQualFinSF` and thus can be dropped"
   ]
  },
  {
   "cell_type": "code",
   "execution_count": 18,
   "id": "17b01b75-70f6-4137-906e-78b8a27bb3e6",
   "metadata": {},
   "outputs": [
    {
     "data": {
      "text/plain": [
       "80"
      ]
     },
     "execution_count": 18,
     "metadata": {},
     "output_type": "execute_result"
    }
   ],
   "source": [
    "len(df_train.columns)"
   ]
  },
  {
   "cell_type": "code",
   "execution_count": 19,
   "id": "6aebe072-d6e5-4d77-96dc-297072960bf3",
   "metadata": {},
   "outputs": [],
   "source": [
    "df_train.drop(['3SsnPorch','EnclosedPorch','ScreenPorch','PoolArea','MiscFeature','MiscVal','MoSold','YrSold','LowQualFinSF'], axis = 1, inplace = True)\n",
    "df_test.drop(['3SsnPorch','EnclosedPorch','ScreenPorch','PoolArea','MiscFeature','MiscVal','MoSold','YrSold','LowQualFinSF'], axis = 1, inplace = True)"
   ]
  },
  {
   "cell_type": "code",
   "execution_count": 20,
   "id": "674fa5d1-6292-48bd-b3a3-14ed24efd7cb",
   "metadata": {},
   "outputs": [
    {
     "data": {
      "text/plain": [
       "71"
      ]
     },
     "execution_count": 20,
     "metadata": {},
     "output_type": "execute_result"
    }
   ],
   "source": [
    "len(df_train.columns)"
   ]
  },
  {
   "cell_type": "code",
   "execution_count": 21,
   "id": "0a53c3a1-1efb-45c6-9cb5-dc7b67c24539",
   "metadata": {},
   "outputs": [
    {
     "data": {
      "text/plain": [
       "object     42\n",
       "int64      26\n",
       "float64     3\n",
       "dtype: int64"
      ]
     },
     "execution_count": 21,
     "metadata": {},
     "output_type": "execute_result"
    }
   ],
   "source": [
    "df_train.dtypes.value_counts()"
   ]
  },
  {
   "cell_type": "markdown",
   "id": "76504eeb-fcef-443b-aa19-aa8864e9a3dd",
   "metadata": {},
   "source": [
    "* Seperate categorical columns in a seperate list: `cat_columns`"
   ]
  },
  {
   "cell_type": "code",
   "execution_count": 22,
   "id": "98e3f92b-b6f7-486f-8231-0b7d2e9977e5",
   "metadata": {},
   "outputs": [],
   "source": [
    "nominal_columns = [x for x in df_train.select_dtypes('object').columns]"
   ]
  },
  {
   "cell_type": "code",
   "execution_count": 23,
   "id": "76560930-ec0a-4b3c-bd16-be2e9b80524d",
   "metadata": {},
   "outputs": [
    {
     "data": {
      "text/plain": [
       "array(['MSZoning', 'Street', 'Alley', 'LotShape', 'LandContour',\n",
       "       'Utilities', 'LotConfig', 'LandSlope', 'Neighborhood',\n",
       "       'Condition1', 'Condition2', 'BldgType', 'HouseStyle', 'RoofStyle',\n",
       "       'RoofMatl', 'Exterior1st', 'Exterior2nd', 'MasVnrType',\n",
       "       'ExterQual', 'ExterCond', 'Foundation', 'BsmtQual', 'BsmtCond',\n",
       "       'BsmtExposure', 'BsmtFinType1', 'BsmtFinType2', 'Heating',\n",
       "       'HeatingQC', 'CentralAir', 'Electrical', 'KitchenQual',\n",
       "       'Functional', 'FireplaceQu', 'GarageType', 'GarageFinish',\n",
       "       'GarageQual', 'GarageCond', 'PavedDrive', 'PoolQC', 'Fence',\n",
       "       'SaleType', 'SaleCondition'], dtype='<U13')"
      ]
     },
     "execution_count": 23,
     "metadata": {},
     "output_type": "execute_result"
    }
   ],
   "source": [
    "np.asarray(nominal_columns).T"
   ]
  },
  {
   "cell_type": "markdown",
   "id": "e15ec72f-468d-4196-99f0-8765cc1302ae",
   "metadata": {},
   "source": [
    "* Seperate `int` columns in a seperate list: `int_columns`. This list will have both __nominal__ data feature and __ordinal__ data feature, both in the form of integers"
   ]
  },
  {
   "cell_type": "code",
   "execution_count": 24,
   "id": "867a5138-e423-4f28-af83-9ceec9f76b9b",
   "metadata": {},
   "outputs": [],
   "source": [
    "int_columns = [j for j in df_train.select_dtypes('int64').columns]"
   ]
  },
  {
   "cell_type": "code",
   "execution_count": 25,
   "id": "15a36740-61b3-4b36-ad09-a896a755f3d1",
   "metadata": {},
   "outputs": [
    {
     "data": {
      "text/plain": [
       "array(['MSSubClass', 'LotArea', 'OverallQual', 'OverallCond', 'YearBuilt',\n",
       "       'YearRemodAdd', 'BsmtFinSF1', 'BsmtFinSF2', 'BsmtUnfSF',\n",
       "       'TotalBsmtSF', '1stFlrSF', '2ndFlrSF', 'GrLivArea', 'BsmtFullBath',\n",
       "       'BsmtHalfBath', 'FullBath', 'HalfBath', 'BedroomAbvGr',\n",
       "       'KitchenAbvGr', 'TotRmsAbvGrd', 'Fireplaces', 'GarageCars',\n",
       "       'GarageArea', 'WoodDeckSF', 'OpenPorchSF', 'SalePrice'],\n",
       "      dtype='<U12')"
      ]
     },
     "execution_count": 25,
     "metadata": {},
     "output_type": "execute_result"
    }
   ],
   "source": [
    "np.asarray(int_columns).T"
   ]
  },
  {
   "cell_type": "markdown",
   "id": "c8615ba3-9779-44ae-9fe9-29a521cdf609",
   "metadata": {},
   "source": [
    "* Extract columns that are __ordinal__"
   ]
  },
  {
   "cell_type": "code",
   "execution_count": 26,
   "id": "9a23886a-5ef3-4be7-9869-c173b5e019a5",
   "metadata": {},
   "outputs": [],
   "source": [
    "ordinal_columns = [x for x in int_columns if x in ('MSSubClass','OverallQual','OverallCond', 'BsmtFullBath', 'BsmtHalfBath', 'FullBath', 'HalfBath',\n",
    "                                               'BedroomAbvGr', 'KitchenAbvGr', 'TotRmsAbvGrd', 'Fireplaces', 'GarageCars')]"
   ]
  },
  {
   "cell_type": "code",
   "execution_count": 27,
   "id": "ff47f3f9-b5fd-4155-9d8b-63ab4fd22b01",
   "metadata": {},
   "outputs": [
    {
     "data": {
      "text/plain": [
       "array(['MSSubClass', 'OverallQual', 'OverallCond', 'BsmtFullBath',\n",
       "       'BsmtHalfBath', 'FullBath', 'HalfBath', 'BedroomAbvGr',\n",
       "       'KitchenAbvGr', 'TotRmsAbvGrd', 'Fireplaces', 'GarageCars'],\n",
       "      dtype='<U12')"
      ]
     },
     "execution_count": 27,
     "metadata": {},
     "output_type": "execute_result"
    }
   ],
   "source": [
    "np.asarray(ordinal_columns)"
   ]
  },
  {
   "cell_type": "markdown",
   "id": "0c9c7238-f19d-4aa9-974a-50a2e7b9a1aa",
   "metadata": {},
   "source": [
    "* Extract columns that are __numerical__"
   ]
  },
  {
   "cell_type": "code",
   "execution_count": 28,
   "id": "992c9235-e7ac-4eba-bee0-f0dfd850336a",
   "metadata": {},
   "outputs": [],
   "source": [
    "num_columns = [x for x in int_columns if x not in ('MSSubClass','OverallQual','OverallCond', 'BsmtFullBath', 'BsmtHalfBath', 'FullBath', 'HalfBath',\n",
    "                                               'BedroomAbvGr', 'KitchenAbvGr', 'TotRmsAbvGrd', 'Fireplaces', 'GarageCars')]"
   ]
  },
  {
   "cell_type": "code",
   "execution_count": 29,
   "id": "b1d86af7-6683-426b-a9b7-b56440458089",
   "metadata": {},
   "outputs": [
    {
     "data": {
      "text/plain": [
       "array(['LotArea', 'YearBuilt', 'YearRemodAdd', 'BsmtFinSF1', 'BsmtFinSF2',\n",
       "       'BsmtUnfSF', 'TotalBsmtSF', '1stFlrSF', '2ndFlrSF', 'GrLivArea',\n",
       "       'GarageArea', 'WoodDeckSF', 'OpenPorchSF', 'SalePrice'],\n",
       "      dtype='<U12')"
      ]
     },
     "execution_count": 29,
     "metadata": {},
     "output_type": "execute_result"
    }
   ],
   "source": [
    "np.asarray(num_columns)"
   ]
  },
  {
   "cell_type": "code",
   "execution_count": 30,
   "id": "f643df5e-a473-4e45-aa12-68e307c78f72",
   "metadata": {},
   "outputs": [],
   "source": [
    "num_columns.remove('SalePrice')"
   ]
  },
  {
   "cell_type": "markdown",
   "id": "d12cfe0c-dfe7-48fa-8a4f-32aaf0fe170d",
   "metadata": {},
   "source": [
    "* Extract columns that are of type `float`"
   ]
  },
  {
   "cell_type": "code",
   "execution_count": 31,
   "id": "ff070e38-fb2e-4bc4-aa02-c8d572a450bf",
   "metadata": {},
   "outputs": [],
   "source": [
    "float_columns = [x for x in df_train.select_dtypes('float').columns]"
   ]
  },
  {
   "cell_type": "code",
   "execution_count": 32,
   "id": "2a6c83a5-3bb0-4ab9-b931-61ec33154b23",
   "metadata": {},
   "outputs": [
    {
     "data": {
      "text/plain": [
       "array(['LotFrontage', 'MasVnrArea', 'GarageYrBlt'], dtype='<U11')"
      ]
     },
     "execution_count": 32,
     "metadata": {},
     "output_type": "execute_result"
    }
   ],
   "source": [
    "np.asarray(float_columns)"
   ]
  },
  {
   "cell_type": "markdown",
   "id": "458a9f0e-588a-4664-ac23-dc9b8a0e8bfe",
   "metadata": {},
   "source": [
    "Cross-check if all the columns are properly seperated"
   ]
  },
  {
   "cell_type": "code",
   "execution_count": 33,
   "id": "c70de3cb-887c-4905-8dd6-f76a93f28dba",
   "metadata": {},
   "outputs": [
    {
     "data": {
      "text/plain": [
       "object     42\n",
       "int64      26\n",
       "float64     3\n",
       "dtype: int64"
      ]
     },
     "execution_count": 33,
     "metadata": {},
     "output_type": "execute_result"
    }
   ],
   "source": [
    "df_train.dtypes.value_counts()"
   ]
  },
  {
   "cell_type": "code",
   "execution_count": 34,
   "id": "3968b901-dda2-432d-802d-64b1de39af8b",
   "metadata": {},
   "outputs": [],
   "source": [
    "assert ( len(nominal_columns) + (len(ordinal_columns) + len(num_columns)) + len(float_columns) ) == len(df_train.columns) - 1"
   ]
  },
  {
   "cell_type": "code",
   "execution_count": 35,
   "id": "2d07d5ed-8252-48ab-b010-19238d134505",
   "metadata": {},
   "outputs": [
    {
     "data": {
      "text/plain": [
       "70"
      ]
     },
     "execution_count": 35,
     "metadata": {},
     "output_type": "execute_result"
    }
   ],
   "source": [
    "len(nominal_columns) + len(ordinal_columns) + len(num_columns) + len(float_columns)"
   ]
  },
  {
   "cell_type": "markdown",
   "id": "22900111-f9e4-444c-bd3d-a6b39c2df8a4",
   "metadata": {},
   "source": [
    "-1 since we removed the `SalePrice` target feature"
   ]
  },
  {
   "cell_type": "markdown",
   "id": "5c677353-007e-477e-9e45-35a8af6a97f9",
   "metadata": {},
   "source": [
    "## $\\text{2.2. NaN Handling}$"
   ]
  },
  {
   "cell_type": "markdown",
   "id": "52bdcb97-c3e1-4061-aa02-9bd15a6fe55e",
   "metadata": {},
   "source": [
    "Having 5 list of columns - \n",
    "* `nominal_columns` - Features holding categorical data of type `object` which are unranked/nominal\n",
    "* `int_columns` - Features holding data of type `int64`\n",
    "    - `ordinal_columns` - Features holding categorical data of type `int64` which are ranked/ordinal\n",
    "    - `num_columns` - Features holding numerical data of type `int64` \n",
    "* `float_columns` - Features holding categorical data of type `float64`\n",
    "\n",
    "Need to merge `num_columns`, `float_columns` since both are numerical and `nominal_columns`,`ordinal_columns` since both are categorical"
   ]
  },
  {
   "cell_type": "code",
   "execution_count": 36,
   "id": "ac7e8426-c78d-47ab-9b55-86218014542e",
   "metadata": {},
   "outputs": [],
   "source": [
    "numerical_columns = num_columns + float_columns\n",
    "categorical_columns = nominal_columns + ordinal_columns"
   ]
  },
  {
   "cell_type": "code",
   "execution_count": 37,
   "id": "ebb7d2e6-cc12-466a-a3f4-c2e4a3b8cde4",
   "metadata": {},
   "outputs": [
    {
     "data": {
      "text/plain": [
       "array(['MSZoning', 'Street', 'Alley', 'LotShape', 'LandContour',\n",
       "       'Utilities', 'LotConfig', 'LandSlope', 'Neighborhood',\n",
       "       'Condition1', 'Condition2', 'BldgType', 'HouseStyle', 'RoofStyle',\n",
       "       'RoofMatl', 'Exterior1st', 'Exterior2nd', 'MasVnrType',\n",
       "       'ExterQual', 'ExterCond', 'Foundation', 'BsmtQual', 'BsmtCond',\n",
       "       'BsmtExposure', 'BsmtFinType1', 'BsmtFinType2', 'Heating',\n",
       "       'HeatingQC', 'CentralAir', 'Electrical', 'KitchenQual',\n",
       "       'Functional', 'FireplaceQu', 'GarageType', 'GarageFinish',\n",
       "       'GarageQual', 'GarageCond', 'PavedDrive', 'PoolQC', 'Fence',\n",
       "       'SaleType', 'SaleCondition', 'MSSubClass', 'OverallQual',\n",
       "       'OverallCond', 'BsmtFullBath', 'BsmtHalfBath', 'FullBath',\n",
       "       'HalfBath', 'BedroomAbvGr', 'KitchenAbvGr', 'TotRmsAbvGrd',\n",
       "       'Fireplaces', 'GarageCars'], dtype='<U13')"
      ]
     },
     "execution_count": 37,
     "metadata": {},
     "output_type": "execute_result"
    }
   ],
   "source": [
    "np.asarray(categorical_columns)"
   ]
  },
  {
   "cell_type": "code",
   "execution_count": 38,
   "id": "5f9879df-e1e1-4334-81ef-ea35fcd5c994",
   "metadata": {},
   "outputs": [
    {
     "data": {
      "text/plain": [
       "array(['LotArea', 'YearBuilt', 'YearRemodAdd', 'BsmtFinSF1', 'BsmtFinSF2',\n",
       "       'BsmtUnfSF', 'TotalBsmtSF', '1stFlrSF', '2ndFlrSF', 'GrLivArea',\n",
       "       'GarageArea', 'WoodDeckSF', 'OpenPorchSF', 'LotFrontage',\n",
       "       'MasVnrArea', 'GarageYrBlt'], dtype='<U12')"
      ]
     },
     "execution_count": 38,
     "metadata": {},
     "output_type": "execute_result"
    }
   ],
   "source": [
    "np.asarray(numerical_columns)"
   ]
  },
  {
   "cell_type": "markdown",
   "id": "0f0373c7-8cf9-44d4-911e-f971be9c740f",
   "metadata": {},
   "source": [
    "For categorical data, fill the NaN with their modes for numerical data, interpolate"
   ]
  },
  {
   "cell_type": "code",
   "execution_count": 39,
   "id": "d5e894e3-45d7-42cd-b822-47cae57187ba",
   "metadata": {},
   "outputs": [
    {
     "name": "stdout",
     "output_type": "stream",
     "text": [
      "SalePrice\n"
     ]
    }
   ],
   "source": [
    "for i,j in enumerate(np.asarray(df_train.columns)):\n",
    "    if(j in categorical_columns):\n",
    "        df_train[j].fillna(df_train[j].value_counts().idxmax(), inplace = True)\n",
    "    elif(j in numerical_columns):\n",
    "        df_train[j].interpolate(inplace = True)\n",
    "    else:\n",
    "        print(j)"
   ]
  },
  {
   "cell_type": "code",
   "execution_count": 40,
   "id": "2478ceb3-8104-477c-9f58-874c68b1ba45",
   "metadata": {},
   "outputs": [
    {
     "data": {
      "text/plain": [
       "[]"
      ]
     },
     "execution_count": 40,
     "metadata": {},
     "output_type": "execute_result"
    }
   ],
   "source": [
    "[df_train.columns[i] for i,j in enumerate(df_train) if df_train[j].isna().any()==True]"
   ]
  },
  {
   "cell_type": "markdown",
   "id": "720b73c0-9a5e-4d09-9016-054980c075cd",
   "metadata": {},
   "source": [
    "Empty, means no NaNs present in dataset. \n",
    "\n",
    "Impute NaN's in `df_test` as well"
   ]
  },
  {
   "cell_type": "code",
   "execution_count": 41,
   "id": "48b126bd-88ce-498e-8e7e-243c2d838b95",
   "metadata": {},
   "outputs": [],
   "source": [
    "for i,j in enumerate(np.asarray(df_test.columns)):\n",
    "    if(j in categorical_columns):\n",
    "        df_test[j].fillna(df_test[j].value_counts().idxmax(), inplace = True)\n",
    "    elif(j in numerical_columns):\n",
    "        df_test[j].interpolate(inplace = True)\n",
    "    else:\n",
    "        print(j)"
   ]
  },
  {
   "cell_type": "code",
   "execution_count": 42,
   "id": "f7d434d9-261c-41a9-b49b-c727dda4ca1b",
   "metadata": {},
   "outputs": [
    {
     "data": {
      "text/plain": [
       "[]"
      ]
     },
     "execution_count": 42,
     "metadata": {},
     "output_type": "execute_result"
    }
   ],
   "source": [
    "[df_test.columns[i] for i,j in enumerate(df_test) if df_test[j].isna().any()==True]"
   ]
  },
  {
   "cell_type": "markdown",
   "id": "4a510f9b-c0fa-4916-9815-ded706ecf9fc",
   "metadata": {},
   "source": [
    "## $\\text{2.3. Feature Selection}$"
   ]
  },
  {
   "cell_type": "markdown",
   "id": "2c623e07",
   "metadata": {},
   "source": [
    "For numerical features, __Backward Feature Selection__"
   ]
  },
  {
   "cell_type": "code",
   "execution_count": 43,
   "id": "3f85daef",
   "metadata": {},
   "outputs": [],
   "source": [
    "X_train_num = df_train[numerical_columns]\n",
    "X_train_cat = df_train[categorical_columns]\n",
    "y_train = df_train['SalePrice']\n",
    "\n",
    "X_test_num = df_test[numerical_columns]\n",
    "X_test_cat = df_test[categorical_columns]"
   ]
  },
  {
   "cell_type": "code",
   "execution_count": 44,
   "id": "a9396f6d",
   "metadata": {},
   "outputs": [],
   "source": [
    "# import warnings\n",
    "# warnings.filterwarnings(\"ignore\")\n",
    "# from sklearn.feature_selection import SequentialFeatureSelector\n",
    "\n",
    "# model = xgb.XGBRegressor()\n",
    "# sf = SequentialFeatureSelector(model, scoring='accuracy', direction = 'backward')\n",
    "# sf.fit(X_train_num,y_train)\n",
    "\n",
    "# best_num_features = list(sf.get_feature_names_out())\n",
    "# best_num_features"
   ]
  },
  {
   "cell_type": "code",
   "execution_count": 45,
   "id": "088bb202",
   "metadata": {},
   "outputs": [],
   "source": [
    "best_num_features = ['2ndFlrSF','GrLivArea','GarageArea','WoodDeckSF','OpenPorchSF','LotFrontage','MasVnrArea','GarageYrBlt']"
   ]
  },
  {
   "cell_type": "code",
   "execution_count": 46,
   "id": "7b557d7d",
   "metadata": {},
   "outputs": [
    {
     "data": {
      "text/plain": [
       "(1460, 16)"
      ]
     },
     "execution_count": 46,
     "metadata": {},
     "output_type": "execute_result"
    }
   ],
   "source": [
    "X_train_num.shape"
   ]
  },
  {
   "cell_type": "code",
   "execution_count": 47,
   "id": "18e13345",
   "metadata": {},
   "outputs": [],
   "source": [
    "X_train_num = X_train_num[best_num_features]\n",
    "X_test_num = X_test_num[best_num_features]"
   ]
  },
  {
   "cell_type": "code",
   "execution_count": 48,
   "id": "f18e79fd",
   "metadata": {},
   "outputs": [
    {
     "data": {
      "text/plain": [
       "(1460, 8)"
      ]
     },
     "execution_count": 48,
     "metadata": {},
     "output_type": "execute_result"
    }
   ],
   "source": [
    "X_train_num.shape"
   ]
  },
  {
   "cell_type": "markdown",
   "id": "4e3f183b-ee1a-4b0d-84a5-2f9a790ab95a",
   "metadata": {},
   "source": [
    "Cast each `object` dtype feature to `category` and each`int` feature to ordered `category`"
   ]
  },
  {
   "cell_type": "code",
   "execution_count": 49,
   "id": "e837ca38-a8bf-4aee-b6d3-c7a37a710ebd",
   "metadata": {},
   "outputs": [],
   "source": [
    "import warnings\n",
    "warnings.filterwarnings(\"ignore\")"
   ]
  },
  {
   "cell_type": "code",
   "execution_count": 50,
   "id": "e3542811-6a10-468f-af0c-7dd96e4fc3ac",
   "metadata": {},
   "outputs": [],
   "source": [
    "for i,j in enumerate(X_train_cat.columns):\n",
    "    if(X_train_cat[j].dtypes=='object'):\n",
    "        X_train_cat[j] = X_train_cat[j].astype('category')\n",
    "\n",
    "for i,j in enumerate(X_test_cat.columns):\n",
    "    if(X_test_cat[j].dtypes=='object'):\n",
    "        X_test_cat[j] = X_test_cat[j].astype('category')"
   ]
  },
  {
   "cell_type": "code",
   "execution_count": 51,
   "id": "d9d22c37-9523-40e5-a01f-4d3197b15481",
   "metadata": {},
   "outputs": [],
   "source": [
    "X_train_orig = pd.concat([X_train_num, X_train_cat], axis = 1)\n",
    "X_test_orig = pd.concat([X_test_num, X_test_cat], axis = 1)"
   ]
  },
  {
   "cell_type": "markdown",
   "id": "ceb5b317-1219-40f1-9229-f6afcdcf34e3",
   "metadata": {},
   "source": [
    "---\n",
    "---"
   ]
  },
  {
   "cell_type": "markdown",
   "id": "be578ca9-5c3c-4430-9279-f91630e26d58",
   "metadata": {},
   "source": [
    "Hard ordered/unordered encoding. Comment previous encoding runtime if using this."
   ]
  },
  {
   "cell_type": "code",
   "execution_count": 52,
   "id": "a5d16d5f-aa71-49a1-8cd9-c14f048284cf",
   "metadata": {},
   "outputs": [],
   "source": [
    "# from pandas.api.types import CategoricalDtype\n",
    "\n",
    "# for i,j in enumerate(X_train_cat.columns):\n",
    "#     if(X_train_cat[j].dtypes=='object'):\n",
    "#         cat_dtype = CategoricalDtype(X_train_cat[j].unique())\n",
    "#         X_train_cat[j] = X_train_cat[j].astype(cat_dtype)\n",
    "#     else:\n",
    "#         int_dtype = CategoricalDtype(np.sort(X_train_cat[j].unique()), ordered = True)\n",
    "#         X_train_cat[j] = X_train_cat[j].astype(int_dtype)"
   ]
  },
  {
   "cell_type": "code",
   "execution_count": 53,
   "id": "e4b411a5-13b8-4010-b046-d4b56bdac152",
   "metadata": {},
   "outputs": [],
   "source": [
    "# X_train_cat['MSZoning'].dtypes"
   ]
  },
  {
   "cell_type": "code",
   "execution_count": 54,
   "id": "1d4a5ccf-0ee8-47f3-bead-ba1419937cff",
   "metadata": {},
   "outputs": [],
   "source": [
    "# X_train_cat['Fireplaces'].dtypes"
   ]
  },
  {
   "cell_type": "markdown",
   "id": "c7b6d5c8-286e-4ed9-8c40-09f3fedcd4bd",
   "metadata": {},
   "source": [
    "## $\\text{2.4. Feature Encoding}$"
   ]
  },
  {
   "cell_type": "code",
   "execution_count": 55,
   "id": "6d5119de-bb3d-4d60-a2c9-1b1c7b877ca3",
   "metadata": {},
   "outputs": [],
   "source": [
    "# from category_encoders.cat_boost import CatBoostEncoder as ce"
   ]
  },
  {
   "cell_type": "code",
   "execution_count": 56,
   "id": "a3042eaa-3b29-4645-8174-5d61005e05c4",
   "metadata": {},
   "outputs": [],
   "source": [
    "# cbe = ce(return_df = True)\n",
    "# X_train_cbe = cbe.fit_transform(X_train_cat, y_train)"
   ]
  },
  {
   "cell_type": "code",
   "execution_count": 57,
   "id": "80c46376-74fb-4e65-97c0-8efbaec5b520",
   "metadata": {},
   "outputs": [],
   "source": [
    "# X_test_cbe = cbe.transform(X_test_cat)"
   ]
  },
  {
   "cell_type": "markdown",
   "id": "65d4fee0-d484-416f-96ee-62fe037c070e",
   "metadata": {},
   "source": [
    "Construct final dataset"
   ]
  },
  {
   "cell_type": "code",
   "execution_count": 58,
   "id": "bd33cedf-9cb0-4c56-8a71-4d09f80f4224",
   "metadata": {},
   "outputs": [],
   "source": [
    "# X_train_final = pd.concat([X_train_cbe, X_train_num], axis = 1)\n",
    "# X_test_final = pd.concat([X_test_cbe, X_test_num], axis = 1)"
   ]
  },
  {
   "cell_type": "code",
   "execution_count": 59,
   "id": "653579af-3efc-4c69-acfb-578dbf9ba1e9",
   "metadata": {},
   "outputs": [],
   "source": [
    "# X_train_final.head(3)"
   ]
  },
  {
   "cell_type": "markdown",
   "id": "80d78474-d483-4a71-a6d9-9d36d11a8378",
   "metadata": {},
   "source": [
    "---\n",
    "---"
   ]
  },
  {
   "cell_type": "markdown",
   "id": "f929a161-f1e1-43fd-801f-7ef476c24c78",
   "metadata": {},
   "source": [
    "## $\\text{2.5. Feature Transformation & Dimesionality Reduction}$"
   ]
  },
  {
   "cell_type": "markdown",
   "id": "f31c83c9-e37f-4122-ade7-0ed4c053eba5",
   "metadata": {},
   "source": [
    "Some scaling technique if not using random forest algos"
   ]
  },
  {
   "cell_type": "code",
   "execution_count": 60,
   "id": "28d8e3ca-01a9-4123-a772-8cba3da9b018",
   "metadata": {},
   "outputs": [],
   "source": [
    "# qt = QuantileTransformer()\n",
    "# X_train_trans = qt.fit_transform(X_train_final,y_train)\n",
    "# X_train_trans"
   ]
  },
  {
   "cell_type": "code",
   "execution_count": 61,
   "id": "3c6401cb-8249-4a2f-b2fe-0026c160e38f",
   "metadata": {},
   "outputs": [],
   "source": [
    "# X_test_trans = qt.transform(X_test_final)"
   ]
  },
  {
   "cell_type": "code",
   "execution_count": 62,
   "id": "2280df28-fe66-4200-8ce3-e305cf21e89c",
   "metadata": {},
   "outputs": [],
   "source": [
    "# X_train_trans.shape"
   ]
  },
  {
   "cell_type": "markdown",
   "id": "c49275b8-04a2-4b64-9ce8-6f03b060bd2f",
   "metadata": {},
   "source": [
    "Some dimensionality reduction method if not using random forest algos"
   ]
  },
  {
   "cell_type": "code",
   "execution_count": 63,
   "id": "8badaf20-b92e-42a4-a3cd-f8db0401c002",
   "metadata": {},
   "outputs": [],
   "source": [
    "# from sklearn.random_projection import SparseRandomProjection\n",
    "# rng = np.random.RandomState(42)\n",
    "# X = rng.rand(25, 3000)\n",
    "\n",
    "# srp = SparseRandomProjection()\n",
    "# X_train_trans = srp.fit_transform(X_train_orig, y_train)"
   ]
  },
  {
   "cell_type": "markdown",
   "id": "d07afeeb-a8b5-4a21-bd02-a667823b7d17",
   "metadata": {},
   "source": [
    "---\n",
    "---"
   ]
  },
  {
   "cell_type": "markdown",
   "id": "434842e3-a537-4eef-9fa7-6f9f90d07c5f",
   "metadata": {},
   "source": [
    "# $\\text{4. Model Build}$"
   ]
  },
  {
   "cell_type": "markdown",
   "id": "11e05cae-cbee-44e5-bd65-1640fd99d4ce",
   "metadata": {},
   "source": [
    "## $\\text{4.0. Train-CV-Test Split}$ "
   ]
  },
  {
   "cell_type": "code",
   "execution_count": 64,
   "id": "21772014-4155-41f0-81f1-882b7a142043",
   "metadata": {},
   "outputs": [],
   "source": [
    "X_train, X_cv, y_train, y_cv = train_test_split(X_train_orig, y_train, test_size = 0.3)\n",
    "\n",
    "X_train.reset_index(inplace = True, drop = True)\n",
    "X_cv.reset_index(inplace = True, drop = True)\n",
    "y_train.reset_index(inplace = True, drop = True)\n",
    "y_cv.reset_index(inplace = True, drop = True)\n",
    "\n",
    "X_test = X_test_orig"
   ]
  },
  {
   "cell_type": "markdown",
   "id": "65d22e0c-d978-4e9c-8d13-f12abb4bc7fd",
   "metadata": {},
   "source": [
    "## $\\text{4.1. XGBoost}$ "
   ]
  },
  {
   "cell_type": "code",
   "execution_count": 65,
   "id": "44dd5b4d-823a-4f92-964e-975ff530e3e9",
   "metadata": {},
   "outputs": [],
   "source": [
    "dtrain = xgb.DMatrix(data = X_train, label = y_train, enable_categorical = True)\n",
    "dcv = xgb.DMatrix(data = X_cv, label = y_cv, enable_categorical = True)\n",
    "dtest = xgb.DMatrix(data = X_test, enable_categorical = True)"
   ]
  },
  {
   "cell_type": "code",
   "execution_count": 66,
   "id": "0f2afe7a-1b84-4cba-9d7d-9d8faf845846",
   "metadata": {},
   "outputs": [],
   "source": [
    "evallist = [(dtrain,'dtrain'),(dcv,'eval')]"
   ]
  },
  {
   "cell_type": "code",
   "execution_count": 67,
   "id": "5fedfbe9-315d-494d-add5-925e6798474a",
   "metadata": {},
   "outputs": [
    {
     "name": "stdout",
     "output_type": "stream",
     "text": [
      "[0]\tdtrain-rmse:146806.42963\teval-rmse:147202.41352\n",
      "[1]\tdtrain-rmse:110950.80491\teval-rmse:112466.25231\n",
      "[2]\tdtrain-rmse:85672.93978\teval-rmse:87984.84671\n",
      "[3]\tdtrain-rmse:70464.48156\teval-rmse:73349.22736\n",
      "[4]\tdtrain-rmse:61670.42534\teval-rmse:64892.08952\n",
      "[5]\tdtrain-rmse:54208.05330\teval-rmse:57782.68863\n",
      "[6]\tdtrain-rmse:50374.20416\teval-rmse:54056.58162\n",
      "[7]\tdtrain-rmse:47531.86126\teval-rmse:51157.10790\n",
      "[8]\tdtrain-rmse:46021.78522\teval-rmse:49576.16658\n",
      "[9]\tdtrain-rmse:44392.43468\teval-rmse:47843.26763\n",
      "[10]\tdtrain-rmse:43440.88969\teval-rmse:46783.57373\n",
      "[11]\tdtrain-rmse:42545.07339\teval-rmse:45731.72095\n",
      "[12]\tdtrain-rmse:42118.82593\teval-rmse:45207.66178\n",
      "[13]\tdtrain-rmse:41719.31090\teval-rmse:44812.53409\n",
      "[14]\tdtrain-rmse:41348.58461\teval-rmse:44352.13613\n",
      "[15]\tdtrain-rmse:40862.37899\teval-rmse:43866.05801\n",
      "[16]\tdtrain-rmse:40672.90584\teval-rmse:43788.25910\n",
      "[17]\tdtrain-rmse:40290.65121\teval-rmse:43386.20528\n",
      "[18]\tdtrain-rmse:40204.90245\teval-rmse:43196.82815\n",
      "[19]\tdtrain-rmse:39938.16895\teval-rmse:42878.56252\n",
      "[20]\tdtrain-rmse:39722.82987\teval-rmse:42787.68689\n",
      "[21]\tdtrain-rmse:39412.67380\teval-rmse:42499.66478\n",
      "[22]\tdtrain-rmse:39307.08236\teval-rmse:42381.06607\n",
      "[23]\tdtrain-rmse:39268.62390\teval-rmse:42265.12906\n",
      "[24]\tdtrain-rmse:39149.68032\teval-rmse:42149.78758\n",
      "[25]\tdtrain-rmse:38844.52089\teval-rmse:41708.50934\n",
      "[26]\tdtrain-rmse:38715.68658\teval-rmse:41840.14522\n",
      "[27]\tdtrain-rmse:38623.37696\teval-rmse:41758.50228\n",
      "[28]\tdtrain-rmse:38598.16971\teval-rmse:41751.39708\n",
      "[29]\tdtrain-rmse:38440.63756\teval-rmse:41508.03290\n",
      "[30]\tdtrain-rmse:38365.63789\teval-rmse:41406.90690\n",
      "[31]\tdtrain-rmse:38297.06731\teval-rmse:41363.53851\n",
      "[32]\tdtrain-rmse:38297.19835\teval-rmse:41384.08727\n",
      "[33]\tdtrain-rmse:38156.71761\teval-rmse:41113.27570\n",
      "[34]\tdtrain-rmse:38009.00800\teval-rmse:41011.51183\n",
      "[35]\tdtrain-rmse:37985.00621\teval-rmse:40954.35253\n",
      "[36]\tdtrain-rmse:37820.40005\teval-rmse:40713.71993\n",
      "[37]\tdtrain-rmse:37732.58217\teval-rmse:40593.21168\n",
      "[38]\tdtrain-rmse:37753.94237\teval-rmse:40559.26043\n",
      "[39]\tdtrain-rmse:37712.31269\teval-rmse:40524.85723\n",
      "[40]\tdtrain-rmse:37596.41083\teval-rmse:40397.91274\n",
      "[41]\tdtrain-rmse:37421.23106\teval-rmse:40287.20302\n",
      "[42]\tdtrain-rmse:37450.05991\teval-rmse:40361.23734\n",
      "[43]\tdtrain-rmse:37251.39814\teval-rmse:40270.24124\n",
      "[44]\tdtrain-rmse:37156.18046\teval-rmse:40147.87091\n",
      "[45]\tdtrain-rmse:37068.12929\teval-rmse:39989.34269\n",
      "[46]\tdtrain-rmse:37013.13781\teval-rmse:39893.40791\n",
      "[47]\tdtrain-rmse:36919.26588\teval-rmse:39877.64026\n",
      "[48]\tdtrain-rmse:36862.12212\teval-rmse:39793.47152\n",
      "[49]\tdtrain-rmse:36811.09689\teval-rmse:39784.54704\n"
     ]
    }
   ],
   "source": [
    "param = {'num_parallel_tree' : 5, 'max_depth' : 30, 'subsample':0.1, 'min_child_weight': 30, 'colsample_bytree':1,\n",
    "         'objective' : 'reg:squarederror'}\n",
    "\n",
    "bst = xgb.train(param, dtrain, 50, evallist)"
   ]
  },
  {
   "cell_type": "code",
   "execution_count": 68,
   "id": "4c8f2b22-b506-42a7-8467-43b10ecb4321",
   "metadata": {},
   "outputs": [
    {
     "data": {
      "text/plain": [
       "<AxesSubplot:title={'center':'Feature importance'}, xlabel='F score', ylabel='Features'>"
      ]
     },
     "execution_count": 68,
     "metadata": {},
     "output_type": "execute_result"
    },
    {
     "data": {
      "image/png": "[encoded data removed]",
      "text/plain": [
       "<Figure size 1440x720 with 1 Axes>"
      ]
     },
     "metadata": {},
     "output_type": "display_data"
    }
   ],
   "source": [
    "fig, ax = plt.subplots(1,1,figsize = (20,10))\n",
    "xgb.plot_importance(bst, ax = ax)"
   ]
  },
  {
   "cell_type": "code",
   "execution_count": 69,
   "id": "c9a7080f-085e-441f-a325-b78f0fbd73ce",
   "metadata": {},
   "outputs": [],
   "source": [
    "impf = ['GrLivArea','LotFrontage','Neighborhood','OpenPorchSF','GarageArea',\n",
    "        'GarageYrBlt','BsmtFinType1','WoodDeckSF','MSSubClass','Fireplaces',\n",
    "        'MasVnrArea','LotShape','OverallCond','OverallQual','Exterior1st']"
   ]
  },
  {
   "cell_type": "code",
   "execution_count": 70,
   "id": "8138bc24-d12a-4ce8-964f-b26775a5fa71",
   "metadata": {},
   "outputs": [],
   "source": [
    "X_train_impf = X_train[impf]\n",
    "X_cv_impf = X_cv[impf]\n",
    "X_test_impf = X_test[impf]"
   ]
  },
  {
   "cell_type": "code",
   "execution_count": 71,
   "id": "0363485f-098a-4b6b-9674-0e07761c006a",
   "metadata": {},
   "outputs": [
    {
     "data": {
      "text/plain": [
       "Index(['GrLivArea', 'LotFrontage', 'Neighborhood', 'OpenPorchSF', 'GarageArea',\n",
       "       'GarageYrBlt', 'BsmtFinType1', 'WoodDeckSF', 'MSSubClass', 'Fireplaces',\n",
       "       'MasVnrArea', 'LotShape', 'OverallCond', 'OverallQual', 'Exterior1st'],\n",
       "      dtype='object')"
      ]
     },
     "execution_count": 71,
     "metadata": {},
     "output_type": "execute_result"
    }
   ],
   "source": [
    "X_train_impf.columns"
   ]
  },
  {
   "cell_type": "code",
   "execution_count": 72,
   "id": "73f33989-aac3-416f-8c36-098432d27e17",
   "metadata": {},
   "outputs": [],
   "source": [
    "dtrain_impf = xgb.DMatrix(data = X_train_impf, label = y_train, enable_categorical = True)\n",
    "dcv_impf = xgb.DMatrix(data = X_cv_impf, label = y_cv, enable_categorical = True)\n",
    "dtest_impf = xgb.DMatrix(data = X_test_impf, enable_categorical = True)"
   ]
  },
  {
   "cell_type": "code",
   "execution_count": 73,
   "id": "45f06f60-a765-44da-82af-37734de87a5c",
   "metadata": {},
   "outputs": [],
   "source": [
    "evallist_impf = [(dtrain_impf,'dtrain'),(dcv_impf,'eval')]"
   ]
  },
  {
   "cell_type": "code",
   "execution_count": 74,
   "id": "9f475ee6-377d-479d-bbc8-3dbf46295b15",
   "metadata": {},
   "outputs": [
    {
     "name": "stdout",
     "output_type": "stream",
     "text": [
      "[0]\tdtrain-rmse:48106.72455\teval-rmse:47803.86193\n",
      "[1]\tdtrain-rmse:25533.90434\teval-rmse:32113.78559\n",
      "[2]\tdtrain-rmse:19175.85088\teval-rmse:31293.35242\n",
      "[3]\tdtrain-rmse:16022.53646\teval-rmse:31021.60536\n",
      "[4]\tdtrain-rmse:13316.41005\teval-rmse:30833.32469\n",
      "[5]\tdtrain-rmse:11715.17515\teval-rmse:31026.32771\n",
      "[6]\tdtrain-rmse:10182.26571\teval-rmse:31038.17087\n",
      "[7]\tdtrain-rmse:9108.39062\teval-rmse:31169.27025\n",
      "[8]\tdtrain-rmse:8006.15045\teval-rmse:31239.21522\n",
      "[9]\tdtrain-rmse:7108.90076\teval-rmse:31406.22944\n",
      "[10]\tdtrain-rmse:6475.21100\teval-rmse:31443.48702\n",
      "[11]\tdtrain-rmse:5733.18200\teval-rmse:31378.49611\n",
      "[12]\tdtrain-rmse:5138.30050\teval-rmse:31519.43390\n",
      "[13]\tdtrain-rmse:4609.82260\teval-rmse:31552.90653\n",
      "[14]\tdtrain-rmse:4186.78676\teval-rmse:31619.84146\n",
      "[15]\tdtrain-rmse:3816.16718\teval-rmse:31593.72107\n",
      "[16]\tdtrain-rmse:3472.26024\teval-rmse:31671.08100\n",
      "[17]\tdtrain-rmse:3127.09439\teval-rmse:31697.68978\n",
      "[18]\tdtrain-rmse:2878.84735\teval-rmse:31805.67875\n",
      "[19]\tdtrain-rmse:2610.20976\teval-rmse:31811.42153\n",
      "[20]\tdtrain-rmse:2400.80497\teval-rmse:31750.64571\n",
      "[21]\tdtrain-rmse:2188.71583\teval-rmse:31819.38661\n",
      "[22]\tdtrain-rmse:1992.67701\teval-rmse:31810.59854\n",
      "[23]\tdtrain-rmse:1866.80991\teval-rmse:31807.31048\n",
      "[24]\tdtrain-rmse:1737.91494\teval-rmse:31808.76066\n",
      "[25]\tdtrain-rmse:1606.69761\teval-rmse:31799.35310\n",
      "[26]\tdtrain-rmse:1389.94971\teval-rmse:31836.70859\n",
      "[27]\tdtrain-rmse:1298.81868\teval-rmse:31850.40181\n",
      "[28]\tdtrain-rmse:1198.13846\teval-rmse:31825.55315\n",
      "[29]\tdtrain-rmse:1127.18768\teval-rmse:31795.56682\n",
      "[30]\tdtrain-rmse:1068.28842\teval-rmse:31816.11159\n",
      "[31]\tdtrain-rmse:1002.49631\teval-rmse:31822.98943\n",
      "[32]\tdtrain-rmse:949.82574\teval-rmse:31811.65714\n",
      "[33]\tdtrain-rmse:886.22019\teval-rmse:31819.30844\n",
      "[34]\tdtrain-rmse:826.91332\teval-rmse:31818.62930\n",
      "[35]\tdtrain-rmse:792.34310\teval-rmse:31829.90509\n",
      "[36]\tdtrain-rmse:751.15693\teval-rmse:31833.25825\n",
      "[37]\tdtrain-rmse:717.91568\teval-rmse:31842.97148\n",
      "[38]\tdtrain-rmse:667.13798\teval-rmse:31830.76565\n",
      "[39]\tdtrain-rmse:635.05311\teval-rmse:31833.67284\n",
      "[40]\tdtrain-rmse:611.09559\teval-rmse:31834.95470\n",
      "[41]\tdtrain-rmse:589.15504\teval-rmse:31823.68159\n",
      "[42]\tdtrain-rmse:570.63885\teval-rmse:31834.01210\n",
      "[43]\tdtrain-rmse:556.61500\teval-rmse:31832.79291\n",
      "[44]\tdtrain-rmse:535.78199\teval-rmse:31841.06834\n",
      "[45]\tdtrain-rmse:526.97974\teval-rmse:31840.20150\n",
      "[46]\tdtrain-rmse:515.63293\teval-rmse:31832.58569\n",
      "[47]\tdtrain-rmse:504.59313\teval-rmse:31829.49492\n",
      "[48]\tdtrain-rmse:495.72745\teval-rmse:31825.22693\n",
      "[49]\tdtrain-rmse:489.70196\teval-rmse:31830.57074\n",
      "[50]\tdtrain-rmse:485.89026\teval-rmse:31830.62396\n",
      "[51]\tdtrain-rmse:480.80574\teval-rmse:31828.40824\n",
      "[52]\tdtrain-rmse:476.70578\teval-rmse:31831.75323\n",
      "[53]\tdtrain-rmse:473.75027\teval-rmse:31832.25110\n",
      "[54]\tdtrain-rmse:469.98969\teval-rmse:31829.30117\n",
      "[55]\tdtrain-rmse:466.59820\teval-rmse:31830.50423\n",
      "[56]\tdtrain-rmse:464.44970\teval-rmse:31830.48033\n",
      "[57]\tdtrain-rmse:462.51789\teval-rmse:31827.02148\n",
      "[58]\tdtrain-rmse:461.32839\teval-rmse:31828.72989\n",
      "[59]\tdtrain-rmse:458.90731\teval-rmse:31828.72528\n",
      "[60]\tdtrain-rmse:457.97552\teval-rmse:31826.39126\n",
      "[61]\tdtrain-rmse:456.51838\teval-rmse:31827.04001\n",
      "[62]\tdtrain-rmse:454.87048\teval-rmse:31828.16611\n",
      "[63]\tdtrain-rmse:454.52326\teval-rmse:31828.92860\n",
      "[64]\tdtrain-rmse:453.09341\teval-rmse:31829.13486\n",
      "[65]\tdtrain-rmse:452.68420\teval-rmse:31829.28604\n",
      "[66]\tdtrain-rmse:452.43688\teval-rmse:31827.89726\n",
      "[67]\tdtrain-rmse:451.57329\teval-rmse:31827.82886\n",
      "[68]\tdtrain-rmse:451.00847\teval-rmse:31827.60975\n",
      "[69]\tdtrain-rmse:450.44230\teval-rmse:31828.76129\n",
      "[70]\tdtrain-rmse:451.13609\teval-rmse:31829.05172\n",
      "[71]\tdtrain-rmse:449.77407\teval-rmse:31827.99251\n",
      "[72]\tdtrain-rmse:449.78617\teval-rmse:31827.65573\n",
      "[73]\tdtrain-rmse:449.15628\teval-rmse:31827.91316\n",
      "[74]\tdtrain-rmse:448.97394\teval-rmse:31827.50950\n",
      "[75]\tdtrain-rmse:448.62747\teval-rmse:31828.89970\n",
      "[76]\tdtrain-rmse:448.69201\teval-rmse:31828.19490\n",
      "[77]\tdtrain-rmse:448.17756\teval-rmse:31827.58562\n",
      "[78]\tdtrain-rmse:448.49234\teval-rmse:31827.66253\n",
      "[79]\tdtrain-rmse:448.11145\teval-rmse:31828.13146\n",
      "[80]\tdtrain-rmse:447.96970\teval-rmse:31827.78665\n",
      "[81]\tdtrain-rmse:448.36476\teval-rmse:31827.59996\n",
      "[82]\tdtrain-rmse:448.15975\teval-rmse:31827.72596\n",
      "[83]\tdtrain-rmse:447.85186\teval-rmse:31827.46016\n",
      "[84]\tdtrain-rmse:448.11345\teval-rmse:31827.50419\n",
      "[85]\tdtrain-rmse:447.49860\teval-rmse:31827.53719\n",
      "[86]\tdtrain-rmse:447.37678\teval-rmse:31828.07040\n",
      "[87]\tdtrain-rmse:447.56120\teval-rmse:31827.75227\n",
      "[88]\tdtrain-rmse:447.33512\teval-rmse:31827.58163\n",
      "[89]\tdtrain-rmse:447.59159\teval-rmse:31827.70710\n",
      "[90]\tdtrain-rmse:448.05686\teval-rmse:31827.14503\n",
      "[91]\tdtrain-rmse:448.31500\teval-rmse:31826.62910\n",
      "[92]\tdtrain-rmse:447.38573\teval-rmse:31826.53950\n",
      "[93]\tdtrain-rmse:447.53783\teval-rmse:31826.87173\n",
      "[94]\tdtrain-rmse:447.56562\teval-rmse:31826.80018\n",
      "[95]\tdtrain-rmse:447.48962\teval-rmse:31827.57571\n",
      "[96]\tdtrain-rmse:447.58312\teval-rmse:31827.08596\n",
      "[97]\tdtrain-rmse:447.55212\teval-rmse:31826.81126\n",
      "[98]\tdtrain-rmse:447.50397\teval-rmse:31826.00382\n",
      "[99]\tdtrain-rmse:447.10239\teval-rmse:31826.13223\n",
      "[100]\tdtrain-rmse:447.25498\teval-rmse:31826.86055\n",
      "[101]\tdtrain-rmse:447.12737\teval-rmse:31826.65358\n",
      "[102]\tdtrain-rmse:447.26209\teval-rmse:31826.82070\n",
      "[103]\tdtrain-rmse:447.55574\teval-rmse:31826.66010\n",
      "[104]\tdtrain-rmse:447.10850\teval-rmse:31827.09508\n",
      "[105]\tdtrain-rmse:447.84475\teval-rmse:31826.32743\n",
      "[106]\tdtrain-rmse:447.06695\teval-rmse:31826.80826\n",
      "[107]\tdtrain-rmse:447.18732\teval-rmse:31827.35733\n",
      "[108]\tdtrain-rmse:447.16815\teval-rmse:31826.17235\n",
      "[109]\tdtrain-rmse:447.19512\teval-rmse:31826.97025\n",
      "[110]\tdtrain-rmse:446.98564\teval-rmse:31826.84750\n",
      "[111]\tdtrain-rmse:447.90386\teval-rmse:31826.11053\n",
      "[112]\tdtrain-rmse:447.31469\teval-rmse:31826.92169\n",
      "[113]\tdtrain-rmse:447.33003\teval-rmse:31827.13916\n",
      "[114]\tdtrain-rmse:448.11254\teval-rmse:31827.03020\n",
      "[115]\tdtrain-rmse:448.84401\teval-rmse:31827.03050\n",
      "[116]\tdtrain-rmse:448.65585\teval-rmse:31826.91064\n",
      "[117]\tdtrain-rmse:447.11060\teval-rmse:31825.64630\n",
      "[118]\tdtrain-rmse:447.30658\teval-rmse:31826.17282\n",
      "[119]\tdtrain-rmse:447.38194\teval-rmse:31826.56872\n"
     ]
    }
   ],
   "source": [
    "param = {'num_parallel_tree' : 8, 'max_depth' : 20, 'subsample':0.9, 'min_child_weight': 8, 'colsample_bytree':0.6,\n",
    "         'objective' : 'reg:squarederror','eta':1.2 ,'eval_metric':'rmse'}\n",
    "bst_bf = xgb.train(param, dtrain_impf, 120, evallist_impf)"
   ]
  },
  {
   "cell_type": "code",
   "execution_count": 75,
   "id": "1000e8ec-3219-44f0-a75b-322578cabc1a",
   "metadata": {},
   "outputs": [],
   "source": [
    "k = bst_bf.predict(dtest_impf)"
   ]
  },
  {
   "cell_type": "code",
   "execution_count": 76,
   "id": "d2295369-e4a0-4a5f-9cdb-3014527a5891",
   "metadata": {},
   "outputs": [
    {
     "data": {
      "text/plain": [
       "array([148600.28, 147031.25, 188310.42, ..., 193790.08, 101510.32,\n",
       "       208138.27], dtype=float32)"
      ]
     },
     "execution_count": 76,
     "metadata": {},
     "output_type": "execute_result"
    }
   ],
   "source": [
    "k"
   ]
  },
  {
   "cell_type": "code",
   "execution_count": 77,
   "id": "fa40de19-e0df-4fad-a12f-bf892aab05b8",
   "metadata": {},
   "outputs": [],
   "source": [
    "ss = pd.read_csv(\"sample_submission.csv\")"
   ]
  },
  {
   "cell_type": "code",
   "execution_count": 78,
   "id": "b8e83104-3e3e-4891-9bba-3dc2fc22affc",
   "metadata": {},
   "outputs": [],
   "source": [
    "submit = ss.copy()"
   ]
  },
  {
   "cell_type": "code",
   "execution_count": 79,
   "id": "fcfe1c34-a090-460d-b05a-67c2be514756",
   "metadata": {},
   "outputs": [
    {
     "data": {
      "text/plain": [
       "Index(['Id', 'SalePrice'], dtype='object')"
      ]
     },
     "execution_count": 79,
     "metadata": {},
     "output_type": "execute_result"
    }
   ],
   "source": [
    "submit.columns"
   ]
  },
  {
   "cell_type": "code",
   "execution_count": 80,
   "id": "0e352974-14c0-4a0e-a354-ea270c78838e",
   "metadata": {},
   "outputs": [],
   "source": [
    "submit['SalePrice'] = k"
   ]
  },
  {
   "cell_type": "code",
   "execution_count": 81,
   "id": "026d36b9-1d58-4195-a33a-9c3c8d2a6dd7",
   "metadata": {},
   "outputs": [
    {
     "data": {
      "text/html": [
       "<div>\n",
       "<style scoped>\n",
       "    .dataframe tbody tr th:only-of-type {\n",
       "        vertical-align: middle;\n",
       "    }\n",
       "\n",
       "    .dataframe tbody tr th {\n",
       "        vertical-align: top;\n",
       "    }\n",
       "\n",
       "    .dataframe thead th {\n",
       "        text-align: right;\n",
       "    }\n",
       "</style>\n",
       "<table border=\"1\" class=\"dataframe\">\n",
       "  <thead>\n",
       "    <tr style=\"text-align: right;\">\n",
       "      <th></th>\n",
       "      <th>Id</th>\n",
       "      <th>SalePrice</th>\n",
       "    </tr>\n",
       "  </thead>\n",
       "  <tbody>\n",
       "    <tr>\n",
       "      <th>0</th>\n",
       "      <td>1461</td>\n",
       "      <td>148600.281250</td>\n",
       "    </tr>\n",
       "    <tr>\n",
       "      <th>1</th>\n",
       "      <td>1462</td>\n",
       "      <td>147031.250000</td>\n",
       "    </tr>\n",
       "    <tr>\n",
       "      <th>2</th>\n",
       "      <td>1463</td>\n",
       "      <td>188310.421875</td>\n",
       "    </tr>\n",
       "    <tr>\n",
       "      <th>3</th>\n",
       "      <td>1464</td>\n",
       "      <td>181533.937500</td>\n",
       "    </tr>\n",
       "    <tr>\n",
       "      <th>4</th>\n",
       "      <td>1465</td>\n",
       "      <td>192056.843750</td>\n",
       "    </tr>\n",
       "  </tbody>\n",
       "</table>\n",
       "</div>"
      ],
      "text/plain": [
       "     Id      SalePrice\n",
       "0  1461  148600.281250\n",
       "1  1462  147031.250000\n",
       "2  1463  188310.421875\n",
       "3  1464  181533.937500\n",
       "4  1465  192056.843750"
      ]
     },
     "execution_count": 81,
     "metadata": {},
     "output_type": "execute_result"
    }
   ],
   "source": [
    "submit.head(5)"
   ]
  },
  {
   "cell_type": "code",
   "execution_count": 82,
   "id": "2d71fec3-14d3-4953-92fa-71be84b35496",
   "metadata": {},
   "outputs": [],
   "source": [
    "submit.to_csv(\"submit.csv\", index = False, float_format = '%.6f')"
   ]
  }
 ],
 "metadata": {
  "kernelspec": {
   "display_name": "Python 3 (ipykernel)",
   "language": "python",
   "name": "python3"
  },
  "language_info": {
   "codemirror_mode": {
    "name": "ipython",
    "version": 3
   },
   "file_extension": ".py",
   "mimetype": "text/x-python",
   "name": "python",
   "nbconvert_exporter": "python",
   "pygments_lexer": "ipython3",
   "version": "3.9.7"
  }
 },
 "nbformat": 4,
 "nbformat_minor": 5
}
