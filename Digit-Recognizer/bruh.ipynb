{
 "cells": [
  {
   "cell_type": "code",
   "execution_count": 1,
   "id": "098c905b-97b7-4164-b43d-d2ddc97dfa0f",
   "metadata": {},
   "outputs": [],
   "source": [
    "import numpy as np\n",
    "import matplotlib.pyplot as plt\n",
    "import pandas as pd"
   ]
  },
  {
   "cell_type": "code",
   "execution_count": 2,
   "id": "fe463d09-d72e-426f-95cc-14adf5d82038",
   "metadata": {},
   "outputs": [],
   "source": [
    "import idx2numpy"
   ]
  },
  {
   "cell_type": "code",
   "execution_count": 3,
   "id": "1795a839-25c6-4ee6-8947-5741643a24fc",
   "metadata": {},
   "outputs": [],
   "source": [
    "X_train = pd.read_csv(\"train.csv\")"
   ]
  },
  {
   "cell_type": "code",
   "execution_count": 4,
   "id": "c562843f-c100-49bf-8a5c-820d80e0132a",
   "metadata": {},
   "outputs": [
    {
     "data": {
      "text/plain": [
       "(42000, 785)"
      ]
     },
     "execution_count": 4,
     "metadata": {},
     "output_type": "execute_result"
    }
   ],
   "source": [
    "X_train.shape"
   ]
  },
  {
   "cell_type": "code",
   "execution_count": 5,
   "id": "6520b73a-4358-45b6-8b13-37fcc077a608",
   "metadata": {},
   "outputs": [],
   "source": [
    "X_test = pd.read_csv(\"test.csv\")"
   ]
  },
  {
   "cell_type": "code",
   "execution_count": 6,
   "id": "23f76cf5-9ce0-4d14-971c-d0326926b834",
   "metadata": {},
   "outputs": [
    {
     "data": {
      "text/plain": [
       "(28000, 784)"
      ]
     },
     "execution_count": 6,
     "metadata": {},
     "output_type": "execute_result"
    }
   ],
   "source": [
    "X_test.shape"
   ]
  },
  {
   "cell_type": "code",
   "execution_count": 7,
   "id": "8c241bfe-8371-4ef6-a440-700db64251a2",
   "metadata": {},
   "outputs": [
    {
     "data": {
      "text/html": [
       "<div>\n",
       "<style scoped>\n",
       "    .dataframe tbody tr th:only-of-type {\n",
       "        vertical-align: middle;\n",
       "    }\n",
       "\n",
       "    .dataframe tbody tr th {\n",
       "        vertical-align: top;\n",
       "    }\n",
       "\n",
       "    .dataframe thead th {\n",
       "        text-align: right;\n",
       "    }\n",
       "</style>\n",
       "<table border=\"1\" class=\"dataframe\">\n",
       "  <thead>\n",
       "    <tr style=\"text-align: right;\">\n",
       "      <th></th>\n",
       "      <th>label</th>\n",
       "      <th>pixel0</th>\n",
       "      <th>pixel1</th>\n",
       "      <th>pixel2</th>\n",
       "      <th>pixel3</th>\n",
       "      <th>pixel4</th>\n",
       "      <th>pixel5</th>\n",
       "      <th>pixel6</th>\n",
       "      <th>pixel7</th>\n",
       "      <th>pixel8</th>\n",
       "      <th>...</th>\n",
       "      <th>pixel774</th>\n",
       "      <th>pixel775</th>\n",
       "      <th>pixel776</th>\n",
       "      <th>pixel777</th>\n",
       "      <th>pixel778</th>\n",
       "      <th>pixel779</th>\n",
       "      <th>pixel780</th>\n",
       "      <th>pixel781</th>\n",
       "      <th>pixel782</th>\n",
       "      <th>pixel783</th>\n",
       "    </tr>\n",
       "  </thead>\n",
       "  <tbody>\n",
       "    <tr>\n",
       "      <th>0</th>\n",
       "      <td>1</td>\n",
       "      <td>0</td>\n",
       "      <td>0</td>\n",
       "      <td>0</td>\n",
       "      <td>0</td>\n",
       "      <td>0</td>\n",
       "      <td>0</td>\n",
       "      <td>0</td>\n",
       "      <td>0</td>\n",
       "      <td>0</td>\n",
       "      <td>...</td>\n",
       "      <td>0</td>\n",
       "      <td>0</td>\n",
       "      <td>0</td>\n",
       "      <td>0</td>\n",
       "      <td>0</td>\n",
       "      <td>0</td>\n",
       "      <td>0</td>\n",
       "      <td>0</td>\n",
       "      <td>0</td>\n",
       "      <td>0</td>\n",
       "    </tr>\n",
       "    <tr>\n",
       "      <th>1</th>\n",
       "      <td>0</td>\n",
       "      <td>0</td>\n",
       "      <td>0</td>\n",
       "      <td>0</td>\n",
       "      <td>0</td>\n",
       "      <td>0</td>\n",
       "      <td>0</td>\n",
       "      <td>0</td>\n",
       "      <td>0</td>\n",
       "      <td>0</td>\n",
       "      <td>...</td>\n",
       "      <td>0</td>\n",
       "      <td>0</td>\n",
       "      <td>0</td>\n",
       "      <td>0</td>\n",
       "      <td>0</td>\n",
       "      <td>0</td>\n",
       "      <td>0</td>\n",
       "      <td>0</td>\n",
       "      <td>0</td>\n",
       "      <td>0</td>\n",
       "    </tr>\n",
       "    <tr>\n",
       "      <th>2</th>\n",
       "      <td>1</td>\n",
       "      <td>0</td>\n",
       "      <td>0</td>\n",
       "      <td>0</td>\n",
       "      <td>0</td>\n",
       "      <td>0</td>\n",
       "      <td>0</td>\n",
       "      <td>0</td>\n",
       "      <td>0</td>\n",
       "      <td>0</td>\n",
       "      <td>...</td>\n",
       "      <td>0</td>\n",
       "      <td>0</td>\n",
       "      <td>0</td>\n",
       "      <td>0</td>\n",
       "      <td>0</td>\n",
       "      <td>0</td>\n",
       "      <td>0</td>\n",
       "      <td>0</td>\n",
       "      <td>0</td>\n",
       "      <td>0</td>\n",
       "    </tr>\n",
       "    <tr>\n",
       "      <th>3</th>\n",
       "      <td>4</td>\n",
       "      <td>0</td>\n",
       "      <td>0</td>\n",
       "      <td>0</td>\n",
       "      <td>0</td>\n",
       "      <td>0</td>\n",
       "      <td>0</td>\n",
       "      <td>0</td>\n",
       "      <td>0</td>\n",
       "      <td>0</td>\n",
       "      <td>...</td>\n",
       "      <td>0</td>\n",
       "      <td>0</td>\n",
       "      <td>0</td>\n",
       "      <td>0</td>\n",
       "      <td>0</td>\n",
       "      <td>0</td>\n",
       "      <td>0</td>\n",
       "      <td>0</td>\n",
       "      <td>0</td>\n",
       "      <td>0</td>\n",
       "    </tr>\n",
       "    <tr>\n",
       "      <th>4</th>\n",
       "      <td>0</td>\n",
       "      <td>0</td>\n",
       "      <td>0</td>\n",
       "      <td>0</td>\n",
       "      <td>0</td>\n",
       "      <td>0</td>\n",
       "      <td>0</td>\n",
       "      <td>0</td>\n",
       "      <td>0</td>\n",
       "      <td>0</td>\n",
       "      <td>...</td>\n",
       "      <td>0</td>\n",
       "      <td>0</td>\n",
       "      <td>0</td>\n",
       "      <td>0</td>\n",
       "      <td>0</td>\n",
       "      <td>0</td>\n",
       "      <td>0</td>\n",
       "      <td>0</td>\n",
       "      <td>0</td>\n",
       "      <td>0</td>\n",
       "    </tr>\n",
       "  </tbody>\n",
       "</table>\n",
       "<p>5 rows × 785 columns</p>\n",
       "</div>"
      ],
      "text/plain": [
       "   label  pixel0  pixel1  pixel2  pixel3  pixel4  pixel5  pixel6  pixel7  \\\n",
       "0      1       0       0       0       0       0       0       0       0   \n",
       "1      0       0       0       0       0       0       0       0       0   \n",
       "2      1       0       0       0       0       0       0       0       0   \n",
       "3      4       0       0       0       0       0       0       0       0   \n",
       "4      0       0       0       0       0       0       0       0       0   \n",
       "\n",
       "   pixel8  ...  pixel774  pixel775  pixel776  pixel777  pixel778  pixel779  \\\n",
       "0       0  ...         0         0         0         0         0         0   \n",
       "1       0  ...         0         0         0         0         0         0   \n",
       "2       0  ...         0         0         0         0         0         0   \n",
       "3       0  ...         0         0         0         0         0         0   \n",
       "4       0  ...         0         0         0         0         0         0   \n",
       "\n",
       "   pixel780  pixel781  pixel782  pixel783  \n",
       "0         0         0         0         0  \n",
       "1         0         0         0         0  \n",
       "2         0         0         0         0  \n",
       "3         0         0         0         0  \n",
       "4         0         0         0         0  \n",
       "\n",
       "[5 rows x 785 columns]"
      ]
     },
     "execution_count": 7,
     "metadata": {},
     "output_type": "execute_result"
    }
   ],
   "source": [
    "X_train.head()"
   ]
  },
  {
   "cell_type": "code",
   "execution_count": 8,
   "id": "0fd67d08-caf9-4994-8717-9f0f5c87a397",
   "metadata": {},
   "outputs": [],
   "source": [
    "y_train = X_train['label']"
   ]
  },
  {
   "cell_type": "code",
   "execution_count": 9,
   "id": "f95186e8-ff44-4e7b-9847-f5e7c87f9ddf",
   "metadata": {},
   "outputs": [
    {
     "data": {
      "text/plain": [
       "0        1\n",
       "1        0\n",
       "2        1\n",
       "3        4\n",
       "4        0\n",
       "        ..\n",
       "41995    0\n",
       "41996    1\n",
       "41997    7\n",
       "41998    6\n",
       "41999    9\n",
       "Name: label, Length: 42000, dtype: int64"
      ]
     },
     "execution_count": 9,
     "metadata": {},
     "output_type": "execute_result"
    }
   ],
   "source": [
    "X_train.pop('label')"
   ]
  },
  {
   "cell_type": "code",
   "execution_count": 10,
   "id": "b2306404-065f-4949-ab95-1e7cf5b5881a",
   "metadata": {},
   "outputs": [],
   "source": [
    "X_train = X_train.to_numpy()"
   ]
  },
  {
   "cell_type": "code",
   "execution_count": 11,
   "id": "8ed5b9f2-519c-4d91-9415-ccf3195105a5",
   "metadata": {},
   "outputs": [],
   "source": [
    "y_train = y_train.to_numpy()[:,np.newaxis]"
   ]
  },
  {
   "cell_type": "code",
   "execution_count": 12,
   "id": "36488b33-b504-4767-955f-b6d93c74bdb2",
   "metadata": {},
   "outputs": [],
   "source": [
    "X_test = X_test.to_numpy()"
   ]
  },
  {
   "cell_type": "code",
   "execution_count": 13,
   "id": "d460b9b6-6a8a-4d6e-b7ab-22119fb68404",
   "metadata": {},
   "outputs": [],
   "source": [
    "y_test = np.zeros(X_test.shape[0])[:,np.newaxis]"
   ]
  },
  {
   "cell_type": "markdown",
   "id": "acd7427c-508b-4d02-848e-76c9547ac823",
   "metadata": {},
   "source": [
    "## Dataset"
   ]
  },
  {
   "cell_type": "code",
   "execution_count": 14,
   "id": "a98e6e53-23b8-4e8b-a890-c2a27b44c4ef",
   "metadata": {},
   "outputs": [
    {
     "data": {
      "text/plain": [
       "array([[0, 0, 0, ..., 0, 0, 0],\n",
       "       [0, 0, 0, ..., 0, 0, 0],\n",
       "       [0, 0, 0, ..., 0, 0, 0],\n",
       "       ...,\n",
       "       [0, 0, 0, ..., 0, 0, 0],\n",
       "       [0, 0, 0, ..., 0, 0, 0],\n",
       "       [0, 0, 0, ..., 0, 0, 0]], dtype=int64)"
      ]
     },
     "execution_count": 14,
     "metadata": {},
     "output_type": "execute_result"
    }
   ],
   "source": [
    "X_train"
   ]
  },
  {
   "cell_type": "code",
   "execution_count": 15,
   "id": "f3db74df-bb09-4ccf-8c6a-b192c2819508",
   "metadata": {},
   "outputs": [
    {
     "data": {
      "text/plain": [
       "array([[1],\n",
       "       [0],\n",
       "       [1],\n",
       "       ...,\n",
       "       [7],\n",
       "       [6],\n",
       "       [9]], dtype=int64)"
      ]
     },
     "execution_count": 15,
     "metadata": {},
     "output_type": "execute_result"
    }
   ],
   "source": [
    "y_train"
   ]
  },
  {
   "cell_type": "code",
   "execution_count": 16,
   "id": "e32e1f7f-58f4-41cb-ae2d-e793e32d6a5b",
   "metadata": {},
   "outputs": [],
   "source": [
    "y_train_ohe = np.squeeze(np.eye(10)[y_train.reshape(-1)])"
   ]
  },
  {
   "cell_type": "code",
   "execution_count": 17,
   "id": "0b31fb47-69db-42f6-a0f6-2e044307ad43",
   "metadata": {},
   "outputs": [
    {
     "data": {
      "text/plain": [
       "array([[0, 0, 0, ..., 0, 0, 0],\n",
       "       [0, 0, 0, ..., 0, 0, 0],\n",
       "       [0, 0, 0, ..., 0, 0, 0],\n",
       "       ...,\n",
       "       [0, 0, 0, ..., 0, 0, 0],\n",
       "       [0, 0, 0, ..., 0, 0, 0],\n",
       "       [0, 0, 0, ..., 0, 0, 0]], dtype=int64)"
      ]
     },
     "execution_count": 17,
     "metadata": {},
     "output_type": "execute_result"
    }
   ],
   "source": [
    "X_test"
   ]
  },
  {
   "cell_type": "code",
   "execution_count": 18,
   "id": "b1fbefb9-326b-4604-beb3-7adabceedfc7",
   "metadata": {},
   "outputs": [
    {
     "data": {
      "text/plain": [
       "array([[0.],\n",
       "       [0.],\n",
       "       [0.],\n",
       "       ...,\n",
       "       [0.],\n",
       "       [0.],\n",
       "       [0.]])"
      ]
     },
     "execution_count": 18,
     "metadata": {},
     "output_type": "execute_result"
    }
   ],
   "source": [
    "y_test"
   ]
  },
  {
   "cell_type": "code",
   "execution_count": 20,
   "id": "67f3e6d8-e24f-4053-be52-469e8a6de5ff",
   "metadata": {},
   "outputs": [],
   "source": [
    "y_test_ohe = np.zeros((y_test.shape[0],10))"
   ]
  },
  {
   "cell_type": "markdown",
   "id": "a62247a6-c264-4ccf-a316-9f343073ebd7",
   "metadata": {},
   "source": [
    "## Shapes"
   ]
  },
  {
   "cell_type": "code",
   "execution_count": 21,
   "id": "6fa90589-deb9-4fb7-a539-33d1ae234528",
   "metadata": {},
   "outputs": [
    {
     "name": "stdout",
     "output_type": "stream",
     "text": [
      "X_train:  (42000, 784)\n",
      "y_train:  (42000, 1)\n",
      "y_train_ohe (42000, 10)\n",
      "X_test:  (28000, 784)\n",
      "y_test:  (28000, 1)\n",
      "y_test_ohe:  (28000, 10)\n"
     ]
    }
   ],
   "source": [
    "print(\"X_train: \" , X_train.shape)\n",
    "print(\"y_train: \" , y_train.shape)\n",
    "print(\"y_train_ohe\" , y_train_ohe.shape)\n",
    "\n",
    "print(\"X_test: \" , X_test.shape)\n",
    "print(\"y_test: \" , y_test.shape)\n",
    "print(\"y_test_ohe: \" , y_test_ohe.shape)"
   ]
  },
  {
   "cell_type": "markdown",
   "id": "969f3f6d-1957-40a2-b54f-1ecf724ea76f",
   "metadata": {},
   "source": [
    "## Model"
   ]
  },
  {
   "cell_type": "code",
   "execution_count": 53,
   "id": "0fd180bd-54b2-462b-956c-9816c183b7ab",
   "metadata": {},
   "outputs": [],
   "source": [
    "def train_network(): \n",
    "    \n",
    "    #------------------------------Preprocessing and initialising weights, biases-----------------------------------------#\n",
    "    \n",
    "    def initialize_parameters():\n",
    "        np.random.seed(42)# comment this line to try different random initialisations for each runtime\n",
    "        INIT_EPSILON = 0.5\n",
    "        W1 = np.random.rand(20,784)*2*(INIT_EPSILON) - INIT_EPSILON; \n",
    "        b1 = np.random.rand(20,1)*2*(INIT_EPSILON) - INIT_EPSILON\n",
    "    \n",
    "        W2 = np.random.rand(15,20)*2*(INIT_EPSILON) - INIT_EPSILON\n",
    "        b2 = np.random.rand(15,1)*2*(INIT_EPSILON) - INIT_EPSILON\n",
    "    \n",
    "        W3 = np.random.rand(10,15)*2*(INIT_EPSILON) - INIT_EPSILON\n",
    "        b3 = np.random.rand(10,1)*2*(INIT_EPSILON) - INIT_EPSILON\n",
    "        \n",
    "        parameters = {\"W1\": W1,\n",
    "                      \"b1\": b1,\n",
    "                      \"W2\": W2,\n",
    "                      \"b2\": b2,\n",
    "                      \"W3\": W3,\n",
    "                      \"b3\": b3}\n",
    "        \n",
    "        return parameters\n",
    "\n",
    "    #-----------------------------------Defining functions for future use------------------------------------------------#\n",
    "    \n",
    "    def relu(x):\n",
    "        return np.maximum(0,x)\n",
    "    \n",
    "    def softmax(z):\n",
    "        ez = np.exp(z)\n",
    "        sm = ez/np.sum(ez, axis = 0)\n",
    "        return sm\n",
    "    \n",
    "    def relu_deriv(Z):\n",
    "        return Z > 0\n",
    "    \n",
    "    def predictions(A3):\n",
    "        return np.argmax(A3, axis = 0) \n",
    "    \n",
    "    def accuracy(pred,y):\n",
    "        return np.sum(pred==y)/y.size\n",
    "    \n",
    "    #------------------------------------------Forward propagation----------------------------------------------------------#\n",
    "    \n",
    "    def forward_prop(X, parameters):\n",
    "        caches = []\n",
    "        A = X.T/255\n",
    "        layers = 4 \n",
    "        for l in range(1, layers):\n",
    "            A_prev = A\n",
    "            W,b = parameters['W' + str(l)], parameters['b' + str(l)]\n",
    "            Z = np.matmul(W,A_prev) + b\n",
    "            cache_1 = (A_prev,W,b)\n",
    "            cache_2 = (Z)\n",
    "            cache = (cache_1,cache_2) \n",
    "            caches.append(cache)\n",
    "            A = relu(Z)\n",
    "        A_final = softmax(A)\n",
    "        return A_final, caches\n",
    "    \n",
    "    #----------------------------------------------Cost Function-----------------------------------------------------------#\n",
    "    \n",
    "    def cost(Y_ohe, wt_lst, H, lbd):\n",
    "        Y_ohe = Y_ohe.T #(42000,10) --> (10,42000)\n",
    "        term1 = (- 1/42000) * np.sum(np.multiply(Y_ohe,np.log(H)) + np.multiply(1 - Y_ohe, np.log(1 - H)))\n",
    "        sum = 0\n",
    "        for w in wt_lst:\n",
    "            sum = sum + np.sum(np.sum(np.square(w)))\n",
    "        term2 = (lbd/(2*42000))*sum\n",
    "        cost = term1 + term2\n",
    "        return cost\n",
    "    \n",
    "    #-----------------------------------------------Back Propagation------------------------------------------------------#\n",
    "    \n",
    "    def backward_prop(y_train_ohe, A3, cache): \n",
    "        m = 42000\n",
    "        A0 = cache[0][0][0] \n",
    "        W1 = cache[0][0][1]\n",
    "        Z1 = cache[0][1]\n",
    "        A1 = cache[1][0][0]\n",
    "        W2 = cache[1][0][1]\n",
    "        Z2 = cache[1][1]\n",
    "        A2 = cache[2][0][0]\n",
    "        W3 = cache[2][0][1]\n",
    "        Z3 = cache[2][1]\n",
    "        grads = []\n",
    "        dZ3 = A3 - y_train_ohe.T\n",
    "        dW3 = (1/m) * (dZ3@A2.T)\n",
    "        db3 = (1/m) * (np.sum(dZ3))\n",
    "        c3 = (dW3, db3)\n",
    "        dZ2 = np.multiply((W3.T@dZ3), relu_deriv(Z2))\n",
    "        dW2 = (1/m) * (dZ2@A1.T)\n",
    "        db2 = (1/m) * (np.sum(dZ2))\n",
    "        c2 = (dW2, db2)\n",
    "        dZ1 = np.multiply((W2.T@dZ2), relu_deriv(Z1))\n",
    "        dW1 = (1/m) * (dZ1@A0.T)\n",
    "        db1 = (1/m) * (np.sum(dZ1))\n",
    "        c1 = (dW1, db1)\n",
    "        grads = [c1,c2,c3]\n",
    "        return grads\n",
    "    \n",
    "    #---------------------------------------------------Updating Parameters-----------------------------------------------------#\n",
    "    \n",
    "    def update_params(cache, grads, alpha):\n",
    "        W1 = cache[0][0][1]\n",
    "        b1 = cache[0][0][2]\n",
    "        W2 = cache[1][0][1]\n",
    "        b2 = cache[1][0][2]\n",
    "        W3 = cache[2][0][1]\n",
    "        b3 = cache[2][0][2]\n",
    "        dW1 = grads[0][0]\n",
    "        db1 = grads[0][1]\n",
    "        dW2 = grads[1][0]\n",
    "        db2 = grads[1][1]\n",
    "        dW3 = grads[2][0]\n",
    "        db3 = grads[2][1]\n",
    "        W1 = W1 - alpha*dW1\n",
    "        b1 = b1 - alpha*db1\n",
    "        W2 = W2 - alpha*dW2\n",
    "        b2 = b2 - alpha*db2\n",
    "        W3 = W3 - alpha*dW3\n",
    "        b3 = b3 - alpha*db3\n",
    "        return W1,b1,W2,b2,W3,b3\n",
    "    \n",
    "    #----------------------------------------------Gradient Descent-------------------------------------------------------------#\n",
    "    \n",
    "    def gradient_descent(X, y, alpha, lbd, epochs):\n",
    "        upd = np.empty((epochs,1))\n",
    "        params = initialize_parameters() #initialise params\n",
    "        Wt_list = (params['W1'], params['W2'], params['W3'])\n",
    "        prds = np.empty((10,42000))\n",
    "        acc = 0\n",
    "        for i in range(epochs):\n",
    "            A3, che = forward_prop(X, params)\n",
    "            upd[i] = cost(y, Wt_list, A3, lbd)\n",
    "            grd = backward_prop(y_train_ohe, A3, che)\n",
    "            W1,b1,W2,b2,W3,b3 = update_params(che, grd, alpha)\n",
    "            params['W1'] = W1\n",
    "            params['b1'] = b1\n",
    "            params['W2'] = W2\n",
    "            params['b2'] = b2\n",
    "            params['W3'] = W3\n",
    "            params['b3'] = b3\n",
    "            prds = predictions(A3)\n",
    "            acc = accuracy(prds,np.squeeze(y_train)) \n",
    "            if(i%50==0):\n",
    "                print(\"Cost: \", np.round(upd[i], decimals = 4), \"|| Accuracy: \", np.round(acc, decimals = 4),\" for epoch \",(i+1)) #\"\n",
    "            if(i==epochs-1):\n",
    "                print(\"Final Cost: \", np.round(upd[i], decimals = 4), \"|| Final Accuracy: \", np.round(acc, decimals = 4),\" for epoch \",(i+1))\n",
    "        plt.figure(figsize=(10,6))\n",
    "        plt.xlabel(\"Iterations\")\n",
    "        plt.ylabel(\"Cost\")\n",
    "        plt.plot(range(epochs),upd,'-', lw = 3)\n",
    "        return prds, params, acc\n",
    "    \n",
    "    #-----------------------------------------------Runtime---------------------------------------------------------------#\n",
    "    \n",
    "    print(\"Training the network.....\")\n",
    "    pred_train, wb, acc_train = gradient_descent(X_train, y_train_ohe, 0.30, 0.0, 250)\n",
    "    print(\"\\n\\nTraining Accuracy: \", acc_train*100,\"%\")\n",
    "    m, n = X_train.shape\n",
    "\n",
    "    fig, axes = plt.subplots(3,5, figsize=(10,10))\n",
    "    fig.tight_layout(pad=0.13,rect=[0, 0.05, 1, 0.91]) \n",
    "\n",
    "\n",
    "    for i,ax in enumerate(axes.flat):\n",
    "        random_index = np.random.randint(m)\n",
    "        X_random_reshaped = X_train[random_index].reshape((28,28))\n",
    "        ax.imshow(X_random_reshaped, cmap='gray')\n",
    "        ax.set_title(y_train[random_index])\n",
    "        ax.set_axis_off()\n",
    "        fig.suptitle(\"Label, Image\", fontsize=14)\n",
    "    \n",
    "    return pred_train, wb, acc_train"
   ]
  },
  {
   "cell_type": "code",
   "execution_count": 48,
   "id": "1b87bcde-68a5-4b59-9c45-35da0b368a4d",
   "metadata": {},
   "outputs": [
    {
     "name": "stdout",
     "output_type": "stream",
     "text": [
      "Training the network.....\n",
      "Cost:  [3.6517] || Accuracy:  0.0959  for epoch  1\n",
      "Cost:  [1.4339] || Accuracy:  0.689  for epoch  51\n",
      "Cost:  [0.972] || Accuracy:  0.8049  for epoch  101\n",
      "Cost:  [0.7595] || Accuracy:  0.855  for epoch  151\n",
      "Cost:  [0.6613] || Accuracy:  0.8772  for epoch  201\n",
      "Final Cost:  [0.6098] || Final Accuracy:  0.8884  for epoch  250\n",
      "\n",
      "\n",
      "Training Accuracy:  88.83571428571429 %\n"
     ]
    },
    {
     "name": "stderr",
     "output_type": "stream",
     "text": [
      "C:\\ProgramData\\Anaconda3\\lib\\site-packages\\matplotlib\\text.py:1215: FutureWarning: elementwise comparison failed; returning scalar instead, but in the future will perform elementwise comparison\n",
      "  if s != self._text:\n"
     ]
    },
    {
     "data": {
      "image/png": "[encoded data removed]",
      "text/plain": [
       "<Figure size 720x432 with 1 Axes>"
      ]
     },
     "metadata": {
      "needs_background": "light"
     },
     "output_type": "display_data"
    },
    {
     "data": {
      "image/png": "[encoded data removed]",
      "text/plain": [
       "<Figure size 720x720 with 15 Axes>"
      ]
     },
     "metadata": {
      "needs_background": "light"
     },
     "output_type": "display_data"
    }
   ],
   "source": [
    "pred_train, wb, acc_train = train_network()"
   ]
  },
  {
   "cell_type": "code",
   "execution_count": 56,
   "id": "db029088-9eb0-460c-9645-e3ddff50cfd5",
   "metadata": {},
   "outputs": [],
   "source": [
    "def predict_on_test(X_test, wb):\n",
    "    \n",
    "    def predictions(A3):\n",
    "            return np.argmax(A3, axis = 0) \n",
    "    \n",
    "    def relu(x):\n",
    "        return np.maximum(0,x)\n",
    "    \n",
    "    def softmax(z):\n",
    "        ez = np.exp(z)\n",
    "        sm = ez/np.sum(ez, axis = 0)\n",
    "        return sm\n",
    "    \n",
    "    def relu_deriv(Z):\n",
    "        return Z > 0\n",
    "    \n",
    "    \n",
    "    def accuracy(pred,y):\n",
    "        return np.sum(pred==y)/y.size\n",
    "    \n",
    "    def forward_prop(X, parameters):\n",
    "            caches = []\n",
    "            A = X.T/255\n",
    "            layers = 4 \n",
    "            for l in range(1, layers):\n",
    "                A_prev = A\n",
    "                W,b = parameters['W' + str(l)], parameters['b' + str(l)]\n",
    "                Z = np.matmul(W,A_prev) + b\n",
    "                cache_1 = (A_prev,W,b)\n",
    "                cache_2 = (Z)\n",
    "                cache = (cache_1,cache_2) \n",
    "                caches.append(cache)\n",
    "                A = relu(Z)\n",
    "            A_final = softmax(A)\n",
    "            return A_final, caches\n",
    "    \n",
    "\n",
    "    H, che = forward_prop(X_test, wb) #perform forward prop\n",
    "    y_pred = predictions(H)\n",
    "    return y_pred"
   ]
  },
  {
   "cell_type": "code",
   "execution_count": 57,
   "id": "41982740-4a6f-487c-b766-c84e22f6eebf",
   "metadata": {},
   "outputs": [],
   "source": [
    "pred_test = predict_on_test(X_test, wb)"
   ]
  },
  {
   "cell_type": "code",
   "execution_count": 58,
   "id": "51344b52-966e-49fb-9d48-4e361c70f4db",
   "metadata": {},
   "outputs": [
    {
     "data": {
      "text/plain": [
       "array([2, 0, 9, ..., 3, 9, 2], dtype=int64)"
      ]
     },
     "execution_count": 58,
     "metadata": {},
     "output_type": "execute_result"
    }
   ],
   "source": [
    "pred_test"
   ]
  },
  {
   "cell_type": "code",
   "execution_count": 84,
   "id": "9dbb6f66-a71f-48cd-a3fa-c74e72a222cf",
   "metadata": {},
   "outputs": [],
   "source": [
    "ImageId = np.arange(1,28001)"
   ]
  },
  {
   "cell_type": "code",
   "execution_count": 74,
   "id": "f3a5a2eb-547a-4960-b294-1724791d03d6",
   "metadata": {},
   "outputs": [
    {
     "data": {
      "text/plain": [
       "array([     1,      2,      3, ..., 279998, 279999, 280000])"
      ]
     },
     "execution_count": 74,
     "metadata": {},
     "output_type": "execute_result"
    }
   ],
   "source": [
    "ImageId"
   ]
  },
  {
   "cell_type": "code",
   "execution_count": 85,
   "id": "b9e494ab-e1f5-48ee-bd67-1e3f49594d61",
   "metadata": {},
   "outputs": [],
   "source": [
    "final = np.hstack((ImageId[:, np.newaxis], pred_test[:,np.newaxis]))"
   ]
  },
  {
   "cell_type": "code",
   "execution_count": 86,
   "id": "a1e998df-8384-43bb-8f74-dbbf61b63d91",
   "metadata": {},
   "outputs": [
    {
     "data": {
      "text/plain": [
       "array([[    1,     2],\n",
       "       [    2,     0],\n",
       "       [    3,     9],\n",
       "       ...,\n",
       "       [27998,     3],\n",
       "       [27999,     9],\n",
       "       [28000,     2]], dtype=int64)"
      ]
     },
     "execution_count": 86,
     "metadata": {},
     "output_type": "execute_result"
    }
   ],
   "source": [
    "final"
   ]
  },
  {
   "cell_type": "code",
   "execution_count": 87,
   "id": "a9a04275-713f-4a1c-a15a-074206a11316",
   "metadata": {},
   "outputs": [],
   "source": [
    "submission = pd.DataFrame(final, columns = ['ImageId','Label'])"
   ]
  },
  {
   "cell_type": "code",
   "execution_count": 94,
   "id": "2f1bc697-5b29-426e-91c8-259dcd81bdf0",
   "metadata": {},
   "outputs": [],
   "source": [
    "submission.to_csv(\"C:/Users/asus/Desktop/ML Implementation/submit.csv\", index = False)"
   ]
  }
 ],
 "metadata": {
  "kernelspec": {
   "display_name": "Python 3 (ipykernel)",
   "language": "python",
   "name": "python3"
  },
  "language_info": {
   "codemirror_mode": {
    "name": "ipython",
    "version": 3
   },
   "file_extension": ".py",
   "mimetype": "text/x-python",
   "name": "python",
   "nbconvert_exporter": "python",
   "pygments_lexer": "ipython3",
   "version": "3.9.7"
  }
 },
 "nbformat": 4,
 "nbformat_minor": 5
}
